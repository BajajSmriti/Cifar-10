{
 "cells": [
  {
   "cell_type": "markdown",
   "metadata": {
    "id": "l-INEHqEYdH9",
    "pycharm": {
     "name": "#%% md\n"
    }
   },
   "source": [
    "# **Final Project**\n",
    "## **DS 5220 Supervised Machine Learning, Spring 2022**\n",
    "### **Authors:** Shashi Bhushan Yadav & Smriti Bajaj\n",
    "---\n",
    "\n",
    "\n",
    "\n"
   ]
  },
  {
   "cell_type": "markdown",
   "metadata": {
    "id": "M023TEG_IvVo",
    "pycharm": {
     "name": "#%% md\n"
    }
   },
   "source": [
    "### **Introduction**"
   ]
  },
  {
   "cell_type": "markdown",
   "metadata": {
    "id": "lkbmPWRvIve-",
    "pycharm": {
     "name": "#%% md\n"
    }
   },
   "source": [
    "***CIFAR-10*** is a dataset of 50,000 32x32 colored training images and 10,000 test images, labeled with 10 categories. This project focusses on implementing 5 different classification algorithms on the CIFAR-10 dataset. We have used Python and its various libraries like PyTorch, keras, scikit-learn, matplotlib, numpy and more for the project. Here are the classes in the dataset, as well as 10 random images from each class:"
   ]
  },
  {
   "cell_type": "markdown",
   "metadata": {
    "id": "h9RguSXfIvjF",
    "pycharm": {
     "name": "#%% md\n"
    }
   },
   "source": [
    "<img src=\"https://pytorch.org/tutorials/_images/cifar10.png\" />"
   ]
  },
  {
   "cell_type": "markdown",
   "metadata": {
    "id": "n9vCfGr5LtVz",
    "pycharm": {
     "name": "#%% md\n"
    }
   },
   "source": [
    "#### **Methods**\n",
    "We have attempted to calculate the dataset's accuracy using: \n",
    "1. Logistic Regression\n",
    "2. SVM w/o kernel\n",
    "3. Support Vector Machine (SVM) w/ kernel\n",
    "4. DNN w/o convolution layer\n",
    "5. Deep Neural Network (DNN) w/ Convolution Layer (CNN)"
   ]
  },
  {
   "cell_type": "markdown",
   "metadata": {
    "id": "L6EGDhUhNEx4",
    "pycharm": {
     "name": "#%% md\n"
    }
   },
   "source": [
    "**Importing the required libraries**"
   ]
  },
  {
   "cell_type": "code",
   "execution_count": 3,
   "metadata": {
    "id": "bz4oV2N0S7Pd",
    "pycharm": {
     "name": "#%%\n"
    }
   },
   "outputs": [],
   "source": [
    "from operator import itemgetter\n",
    "import torch\n",
    "import torch.nn as nn\n",
    "import torchvision\n",
    "from torchvision.datasets import CIFAR10\n",
    "from torch.utils.data import DataLoader\n",
    "import torchvision.transforms as transforms\n",
    "import matplotlib.pyplot as plt\n",
    "import torch.nn.functional as F\n",
    "import matplotlib.pyplot as plt\n",
    "import numpy as np\n",
    "import torch.optim as optim\n",
    "import os\n",
    "from keras.datasets import cifar10"
   ]
  },
  {
   "cell_type": "markdown",
   "metadata": {
    "id": "-XUv_iJoc4wP",
    "pycharm": {
     "name": "#%% md\n"
    }
   },
   "source": [
    "**Loading and splitting the dataset**"
   ]
  },
  {
   "cell_type": "code",
   "execution_count": 4,
   "metadata": {
    "colab": {
     "base_uri": "https://localhost:8080/"
    },
    "id": "oF2fTsmTc8sd",
    "outputId": "0d458773-05ba-452e-bffa-04f0822251f6",
    "pycharm": {
     "name": "#%%\n"
    }
   },
   "outputs": [
    {
     "name": "stdout",
     "output_type": "stream",
     "text": [
      "Files already downloaded and verified\n"
     ]
    }
   ],
   "source": [
    "BATCH_SIZE=100\n",
    "\n",
    "transform = transforms.Compose(\n",
    "    [transforms.ToTensor(),\n",
    "     transforms.Normalize((0.5, 0.5, 0.5), (0.5, 0.5, 0.5))])\n",
    "\n",
    "train_dataset = CIFAR10(root=\"./\", download=True, train=True, \n",
    "    transform=transform)\n",
    "train_dataset, valid_dataset = torch.utils.data.random_split(train_dataset, [40000, 10000])\n",
    "eval_dataset = CIFAR10(root=\"./\", train=False, \n",
    "    transform=transform)\n",
    "\n",
    "\n",
    "train_data_loader = DataLoader(dataset=train_dataset, batch_size=BATCH_SIZE, shuffle=True)\n",
    "valid_data_loader = DataLoader(dataset=valid_dataset, batch_size=BATCH_SIZE, shuffle=False)\n",
    "eval_data_loader = DataLoader(dataset=eval_dataset, batch_size=BATCH_SIZE, shuffle=False)"
   ]
  },
  {
   "cell_type": "markdown",
   "metadata": {
    "id": "76zIaCDSeurY",
    "pycharm": {
     "name": "#%% md\n"
    }
   },
   "source": [
    "**Checking for cuda support**"
   ]
  },
  {
   "cell_type": "code",
   "execution_count": 5,
   "metadata": {
    "id": "aaRwd6x6e6d2",
    "pycharm": {
     "name": "#%%\n"
    }
   },
   "outputs": [],
   "source": [
    "# device variable is used to offload the data on the gpu\n",
    "device = torch.device(\"cuda:0\" if torch.cuda.is_available() else \"cpu\")"
   ]
  },
  {
   "cell_type": "markdown",
   "metadata": {
    "id": "foKGDPY1YFUk",
    "pycharm": {
     "name": "#%% md\n"
    }
   },
   "source": [
    "### **1. Multiclass Logistic Regression**"
   ]
  },
  {
   "cell_type": "markdown",
   "metadata": {
    "id": "x6a3Rd1ne9Kr",
    "pycharm": {
     "name": "#%% md\n"
    }
   },
   "source": [
    "Multiclass logistic regression, like other types of linear regression, uses a linear predictor function <img src=\"https://wikimedia.org/api/rest_v1/media/math/render/svg/811817b0a554c4823cf74b54ec0a28fbbcc44756\"> to forecast the chance that observation I contains outcome k, of the form:\n",
    "<img src=\"https://wikimedia.org/api/rest_v1/media/math/render/svg/2cb74185a381069c19dfc9ceb09c34b0a887ac8a\">\n",
    "\n",
    "Because it is differentiable and continuous, the Categorical Cross-Entropy Function is an excellent candidate for our cost function.\n",
    "\n",
    "To calculate the average loss for each batch, most categorical cross entropy implementations take the average of the sums. The batch's averages are then averaged across all batches to get a single scalar number.\n",
    "\n",
    "<img src=\"https://miro.medium.com/max/1400/1*KRk_s3YSnhhkLmZjdfeFNQ.png\">\n",
    "\n",
    "Because the predicted outcome is always a sum of the parameters, not a product of them (never w1w2, only w1 x1), logistic regression is a linear function. When predicting linear (directly correlated) correlations between inputs and outcomes, logistic regression works best. In that regard, it's analogous to linear regression.\n",
    "\n",
    "Linear relationships cannot adequately explain the patterns within a picture, especially those from more complicated datasets like CIFAR-10 (as opposed to MNIST).\n",
    "\n",
    "This multiclass logistic regression gave us an approximate accuracy of 41% for the CIFAR-10 dataset. \n"
   ]
  },
  {
   "cell_type": "markdown",
   "metadata": {
    "id": "Qx35dTeDdY-x",
    "pycharm": {
     "name": "#%% md\n"
    }
   },
   "source": [
    "**Creating a linear model**"
   ]
  },
  {
   "cell_type": "code",
   "execution_count": 8,
   "metadata": {
    "id": "k9LzGf3rYwHq",
    "pycharm": {
     "name": "#%%\n"
    }
   },
   "outputs": [],
   "source": [
    "class LogRegression(nn.Module):\n",
    "    def __init__(self, inputSize, numClasses):\n",
    "        super(LogRegression,self).__init__()\n",
    "        self.linear = nn.Linear(inputSize, numClasses)\n",
    "\n",
    "    def forward(self, x):\n",
    "        x = x.reshape(-1, 3072)\n",
    "        x = self.linear(x)\n",
    "        return x"
   ]
  },
  {
   "cell_type": "markdown",
   "metadata": {
    "id": "9xO1s0tjdhzX",
    "pycharm": {
     "name": "#%% md\n"
    }
   },
   "source": [
    "**Creating a model object for LogRegression class**"
   ]
  },
  {
   "cell_type": "code",
   "execution_count": 9,
   "metadata": {
    "id": "MaKNr_kfdqiI",
    "pycharm": {
     "name": "#%%\n"
    }
   },
   "outputs": [],
   "source": [
    "inputSize = 32 * 32 * 3\n",
    "numClasses = 10\n",
    "learningRate = 0.003\n",
    "# selecting gpu if device supports cuda\n",
    "logmodel = LogRegression(inputSize, numClasses).to(device)\n",
    "lossFunction = F.cross_entropy\n",
    "optimizer = torch.optim.SGD(logmodel.parameters(), lr=learningRate)\n",
    "scheduler = torch.optim.lr_scheduler.ReduceLROnPlateau(optimizer, mode='min', factor=0.1, patience=10, verbose=True, min_lr=0)"
   ]
  },
  {
   "cell_type": "markdown",
   "metadata": {
    "id": "xp4udNF5d-ra",
    "pycharm": {
     "name": "#%% md\n"
    }
   },
   "source": [
    "**Defining the loss function**"
   ]
  },
  {
   "cell_type": "code",
   "execution_count": null,
   "metadata": {
    "id": "jwNx0KnYeA_7",
    "pycharm": {
     "name": "#%%\n"
    }
   },
   "outputs": [],
   "source": [
    "def calculateLoss(model, loss_func, input, output, optimizer=None, metric=None):\n",
    "    device = torch.device(\"cuda:0\" if torch.cuda.is_available() else \"cpu\")\n",
    "    input = input.to(device)\n",
    "    output = output.to(device)\n",
    "    result = model(input)\n",
    "    loss = loss_func(result, output)\n",
    "\n",
    "    if optimizer is not None:\n",
    "        loss.backward()\n",
    "        optimizer.step()\n",
    "        optimizer.zero_grad()\n",
    "\n",
    "    metric_result = None\n",
    "    if metric is not None:\n",
    "        metric_result = metric(result, output)\n",
    "    \n",
    "    return loss.item(), len(input), metric_result"
   ]
  },
  {
   "cell_type": "markdown",
   "metadata": {
    "id": "KQZ54pukeHEy",
    "pycharm": {
     "name": "#%% md\n"
    }
   },
   "source": [
    "**Defining a function to calculate accuracy**"
   ]
  },
  {
   "cell_type": "code",
   "execution_count": null,
   "metadata": {
    "id": "feXt14XFeKqF",
    "pycharm": {
     "name": "#%%\n"
    }
   },
   "outputs": [],
   "source": [
    "def accuracy(outputs, labels):\n",
    "    _, preds = torch.max(outputs, dim=1)\n",
    "    return torch.sum(preds == labels).item() / len(preds)"
   ]
  },
  {
   "cell_type": "markdown",
   "metadata": {
    "id": "VW7HELLgfT52",
    "pycharm": {
     "name": "#%% md\n"
    }
   },
   "source": [
    "**Defining the evaluate function to evaluate the model**"
   ]
  },
  {
   "cell_type": "code",
   "execution_count": null,
   "metadata": {
    "id": "fzrzEw4QfYjY",
    "pycharm": {
     "name": "#%%\n"
    }
   },
   "outputs": [],
   "source": [
    "def evaluate(model, lossFunction, data_loader, metric):\n",
    "    with torch.no_grad():\n",
    "        results = []\n",
    "        for input, output in data_loader:\n",
    "            results.append(calculateLoss(model, lossFunction, input, output, metric=metric))\n",
    "        \n",
    "        losses, nums, metrics = zip(*results)\n",
    "        noOfInput = np.sum(nums)\n",
    "        loss_sum = np.sum(np.multiply(losses, nums))\n",
    "        loss_avg = loss_sum / noOfInput\n",
    "        tot_metric = np.sum(np.multiply(metrics, nums))\n",
    "        avg_accuracy = tot_metric / noOfInput\n",
    "    return loss_avg, noOfInput, avg_accuracy"
   ]
  },
  {
   "cell_type": "markdown",
   "metadata": {
    "id": "H-isfkmmfhMs",
    "pycharm": {
     "name": "#%% md\n"
    }
   },
   "source": [
    "**Training the model**"
   ]
  },
  {
   "cell_type": "code",
   "execution_count": null,
   "metadata": {
    "colab": {
     "base_uri": "https://localhost:8080/"
    },
    "id": "XgexV4EQfkNm",
    "outputId": "1a419b0d-be7f-4b6a-c0bf-cd8f1e1c5e49",
    "pycharm": {
     "name": "#%%\n"
    }
   },
   "outputs": [
    {
     "name": "stdout",
     "output_type": "stream",
     "text": [
      "Epoch [1/100], Loss: 1.8669, accuracy: 0.3611, Valid Loss : 1.9099692106246948\n",
      "Epoch [2/100], Loss: 1.8234, accuracy: 0.3801, Valid Loss : 1.7476428747177124\n",
      "Epoch [3/100], Loss: 1.7989, accuracy: 0.3886, Valid Loss : 1.7650954723358154\n",
      "Epoch [4/100], Loss: 1.7856, accuracy: 0.3954, Valid Loss : 1.7558479309082031\n",
      "Epoch [5/100], Loss: 1.7754, accuracy: 0.3969, Valid Loss : 1.8335511684417725\n",
      "Epoch [6/100], Loss: 1.7684, accuracy: 0.4000, Valid Loss : 1.661447286605835\n",
      "Epoch [7/100], Loss: 1.7599, accuracy: 0.4023, Valid Loss : 1.6551742553710938\n",
      "Epoch [8/100], Loss: 1.7552, accuracy: 0.4046, Valid Loss : 1.85435152053833\n",
      "Epoch [9/100], Loss: 1.7520, accuracy: 0.4012, Valid Loss : 1.732660174369812\n",
      "Epoch [10/100], Loss: 1.7487, accuracy: 0.4041, Valid Loss : 1.7544035911560059\n",
      "Epoch [11/100], Loss: 1.7446, accuracy: 0.4060, Valid Loss : 1.6830743551254272\n",
      "Epoch [12/100], Loss: 1.7432, accuracy: 0.4071, Valid Loss : 1.5455495119094849\n",
      "Epoch [13/100], Loss: 1.7403, accuracy: 0.4071, Valid Loss : 1.7524827718734741\n",
      "Epoch [14/100], Loss: 1.7356, accuracy: 0.4100, Valid Loss : 1.7524113655090332\n",
      "Epoch [15/100], Loss: 1.7367, accuracy: 0.4113, Valid Loss : 1.692742109298706\n",
      "Epoch [16/100], Loss: 1.7345, accuracy: 0.4107, Valid Loss : 1.7859759330749512\n",
      "Epoch [17/100], Loss: 1.7322, accuracy: 0.4109, Valid Loss : 1.75959050655365\n",
      "Epoch [18/100], Loss: 1.7292, accuracy: 0.4126, Valid Loss : 1.8159321546554565\n",
      "Epoch [19/100], Loss: 1.7279, accuracy: 0.4128, Valid Loss : 1.8732964992523193\n",
      "Epoch [20/100], Loss: 1.7259, accuracy: 0.4152, Valid Loss : 1.7009350061416626\n",
      "Epoch [21/100], Loss: 1.7250, accuracy: 0.4121, Valid Loss : 1.7811975479125977\n",
      "Epoch [22/100], Loss: 1.7240, accuracy: 0.4116, Valid Loss : 1.5376505851745605\n",
      "Epoch [23/100], Loss: 1.7242, accuracy: 0.4125, Valid Loss : 1.7240639925003052\n",
      "Epoch [24/100], Loss: 1.7224, accuracy: 0.4115, Valid Loss : 1.738645315170288\n",
      "Epoch [25/100], Loss: 1.7229, accuracy: 0.4148, Valid Loss : 1.6367197036743164\n",
      "Epoch [26/100], Loss: 1.7246, accuracy: 0.4115, Valid Loss : 1.7277817726135254\n",
      "Epoch [27/100], Loss: 1.7202, accuracy: 0.4182, Valid Loss : 1.6249979734420776\n",
      "Epoch [28/100], Loss: 1.7205, accuracy: 0.4161, Valid Loss : 1.6877694129943848\n",
      "Epoch [29/100], Loss: 1.7213, accuracy: 0.4111, Valid Loss : 1.7700413465499878\n",
      "Epoch [30/100], Loss: 1.7183, accuracy: 0.4153, Valid Loss : 1.866490125656128\n",
      "Epoch [31/100], Loss: 1.7176, accuracy: 0.4156, Valid Loss : 1.6284550428390503\n",
      "Epoch [32/100], Loss: 1.7175, accuracy: 0.4173, Valid Loss : 1.5164215564727783\n",
      "Epoch [33/100], Loss: 1.7162, accuracy: 0.4148, Valid Loss : 1.7561485767364502\n",
      "Epoch [34/100], Loss: 1.7178, accuracy: 0.4178, Valid Loss : 1.687159776687622\n",
      "Epoch [35/100], Loss: 1.7169, accuracy: 0.4161, Valid Loss : 1.683266043663025\n",
      "Epoch [36/100], Loss: 1.7169, accuracy: 0.4169, Valid Loss : 1.6036152839660645\n",
      "Epoch [37/100], Loss: 1.7170, accuracy: 0.4146, Valid Loss : 1.813917875289917\n",
      "Epoch [38/100], Loss: 1.7165, accuracy: 0.4165, Valid Loss : 1.7821991443634033\n",
      "Epoch [39/100], Loss: 1.7159, accuracy: 0.4147, Valid Loss : 1.6975805759429932\n",
      "Epoch [40/100], Loss: 1.7156, accuracy: 0.4168, Valid Loss : 1.5916762351989746\n",
      "Epoch [41/100], Loss: 1.7170, accuracy: 0.4143, Valid Loss : 1.7363299131393433\n",
      "Epoch [42/100], Loss: 1.7147, accuracy: 0.4168, Valid Loss : 1.6850050687789917\n",
      "Epoch [43/100], Loss: 1.7148, accuracy: 0.4145, Valid Loss : 1.6484225988388062\n",
      "Epoch [44/100], Loss: 1.7153, accuracy: 0.4159, Valid Loss : 1.6180213689804077\n",
      "Epoch [45/100], Loss: 1.7151, accuracy: 0.4148, Valid Loss : 1.7760330438613892\n",
      "Epoch [46/100], Loss: 1.7144, accuracy: 0.4159, Valid Loss : 1.584000825881958\n",
      "Epoch [47/100], Loss: 1.7135, accuracy: 0.4145, Valid Loss : 1.585195779800415\n",
      "Epoch [48/100], Loss: 1.7155, accuracy: 0.4137, Valid Loss : 1.7335405349731445\n",
      "Epoch [49/100], Loss: 1.7151, accuracy: 0.4160, Valid Loss : 1.7078237533569336\n",
      "Epoch [50/100], Loss: 1.7173, accuracy: 0.4124, Valid Loss : 1.6886773109436035\n",
      "Epoch [51/100], Loss: 1.7139, accuracy: 0.4157, Valid Loss : 1.6770987510681152\n",
      "Epoch [52/100], Loss: 1.7138, accuracy: 0.4162, Valid Loss : 1.58497953414917\n",
      "Epoch [53/100], Loss: 1.7136, accuracy: 0.4157, Valid Loss : 1.5695157051086426\n",
      "Epoch [54/100], Loss: 1.7141, accuracy: 0.4149, Valid Loss : 1.6459475755691528\n",
      "Epoch [55/100], Loss: 1.7142, accuracy: 0.4174, Valid Loss : 1.5277267694473267\n",
      "Epoch [56/100], Loss: 1.7135, accuracy: 0.4160, Valid Loss : 1.7546294927597046\n",
      "Epoch [57/100], Loss: 1.7141, accuracy: 0.4144, Valid Loss : 1.5555434226989746\n",
      "Epoch 00058: reducing learning rate of group 0 to 3.0000e-04.\n",
      "Epoch [58/100], Loss: 1.7148, accuracy: 0.4165, Valid Loss : 1.564206838607788\n",
      "Epoch [59/100], Loss: 1.7130, accuracy: 0.4157, Valid Loss : 1.5718307495117188\n",
      "Epoch [60/100], Loss: 1.7127, accuracy: 0.4165, Valid Loss : 1.4409316778182983\n",
      "Epoch [61/100], Loss: 1.7124, accuracy: 0.4161, Valid Loss : 1.6838569641113281\n",
      "Epoch [62/100], Loss: 1.7124, accuracy: 0.4155, Valid Loss : 1.7508811950683594\n",
      "Epoch [63/100], Loss: 1.7124, accuracy: 0.4167, Valid Loss : 1.7925955057144165\n",
      "Epoch [64/100], Loss: 1.7123, accuracy: 0.4170, Valid Loss : 1.8345876932144165\n",
      "Epoch [65/100], Loss: 1.7122, accuracy: 0.4153, Valid Loss : 1.6084566116333008\n",
      "Epoch [66/100], Loss: 1.7120, accuracy: 0.4170, Valid Loss : 1.5724802017211914\n",
      "Epoch [67/100], Loss: 1.7122, accuracy: 0.4157, Valid Loss : 1.6686580181121826\n",
      "Epoch [68/100], Loss: 1.7122, accuracy: 0.4150, Valid Loss : 1.5945886373519897\n",
      "Epoch [69/100], Loss: 1.7121, accuracy: 0.4157, Valid Loss : 1.6982741355895996\n",
      "Epoch [70/100], Loss: 1.7122, accuracy: 0.4158, Valid Loss : 1.499902606010437\n",
      "Epoch [71/100], Loss: 1.7122, accuracy: 0.4171, Valid Loss : 1.5076402425765991\n",
      "Epoch [72/100], Loss: 1.7123, accuracy: 0.4162, Valid Loss : 1.6692546606063843\n",
      "Epoch [73/100], Loss: 1.7123, accuracy: 0.4161, Valid Loss : 1.755957841873169\n",
      "Epoch [74/100], Loss: 1.7121, accuracy: 0.4162, Valid Loss : 1.6267222166061401\n",
      "Epoch [75/100], Loss: 1.7119, accuracy: 0.4169, Valid Loss : 1.5554494857788086\n",
      "Epoch [76/100], Loss: 1.7120, accuracy: 0.4168, Valid Loss : 1.6179903745651245\n",
      "Epoch 00077: reducing learning rate of group 0 to 3.0000e-05.\n",
      "Epoch [77/100], Loss: 1.7122, accuracy: 0.4155, Valid Loss : 1.8096295595169067\n",
      "Epoch [78/100], Loss: 1.7122, accuracy: 0.4158, Valid Loss : 1.7082895040512085\n",
      "Epoch [79/100], Loss: 1.7122, accuracy: 0.4159, Valid Loss : 1.703333854675293\n",
      "Epoch [80/100], Loss: 1.7122, accuracy: 0.4159, Valid Loss : 1.7023005485534668\n",
      "Epoch [81/100], Loss: 1.7121, accuracy: 0.4158, Valid Loss : 1.7430649995803833\n",
      "Epoch [82/100], Loss: 1.7121, accuracy: 0.4159, Valid Loss : 1.6266989707946777\n",
      "Epoch [83/100], Loss: 1.7121, accuracy: 0.4160, Valid Loss : 1.5026779174804688\n",
      "Epoch [84/100], Loss: 1.7121, accuracy: 0.4160, Valid Loss : 1.5577723979949951\n",
      "Epoch [85/100], Loss: 1.7121, accuracy: 0.4160, Valid Loss : 1.617648720741272\n",
      "Epoch [86/100], Loss: 1.7121, accuracy: 0.4160, Valid Loss : 1.7344578504562378\n",
      "Epoch [87/100], Loss: 1.7121, accuracy: 0.4160, Valid Loss : 1.7327876091003418\n",
      "Epoch 00088: reducing learning rate of group 0 to 3.0000e-06.\n",
      "Epoch [88/100], Loss: 1.7121, accuracy: 0.4160, Valid Loss : 1.6919461488723755\n",
      "Epoch [89/100], Loss: 1.7121, accuracy: 0.4160, Valid Loss : 1.9585411548614502\n",
      "Epoch [90/100], Loss: 1.7121, accuracy: 0.4160, Valid Loss : 1.5969603061676025\n",
      "Epoch [91/100], Loss: 1.7121, accuracy: 0.4160, Valid Loss : 1.5239250659942627\n",
      "Epoch [92/100], Loss: 1.7121, accuracy: 0.4160, Valid Loss : 1.6937545537948608\n",
      "Epoch [93/100], Loss: 1.7121, accuracy: 0.4160, Valid Loss : 1.6526174545288086\n",
      "Epoch [94/100], Loss: 1.7121, accuracy: 0.4160, Valid Loss : 1.8172928094863892\n",
      "Epoch [95/100], Loss: 1.7121, accuracy: 0.4160, Valid Loss : 1.7179394960403442\n",
      "Epoch [96/100], Loss: 1.7121, accuracy: 0.4160, Valid Loss : 1.777766466140747\n",
      "Epoch [97/100], Loss: 1.7121, accuracy: 0.4160, Valid Loss : 1.7950108051300049\n",
      "Epoch [98/100], Loss: 1.7121, accuracy: 0.4160, Valid Loss : 1.5804237127304077\n",
      "Epoch 00099: reducing learning rate of group 0 to 3.0000e-07.\n",
      "Epoch [99/100], Loss: 1.7121, accuracy: 0.4160, Valid Loss : 1.5825302600860596\n",
      "Epoch [100/100], Loss: 1.7121, accuracy: 0.4160, Valid Loss : 1.5829625129699707\n"
     ]
    }
   ],
   "source": [
    "epochs = 100\n",
    "history_log =[]\n",
    "# for each epoch we have to train out model on full training set\n",
    "for epoch in range(epochs):\n",
    "    # for each batch in training dataset we have train our model\n",
    "    loss = 0\n",
    "    total_train_loss = 0\n",
    "    for step, (input, target) in enumerate(train_data_loader):\n",
    "        loss,_,_ = calculateLoss(logmodel, lossFunction, input, target, optimizer)\n",
    "    # after training our model on training dataset we have to validate it on validation dataset\n",
    "    val_loss, total, accur = evaluate(logmodel, lossFunction, valid_data_loader, accuracy)\n",
    "    history_log.append({\n",
    "        \"val_loss\": val_loss, \n",
    "        \"train_loss\": loss,\n",
    "        \"val_metric\": accur\n",
    "        })\n",
    "    scheduler.step(val_loss)\n",
    "    print('Epoch [{}/{}], Loss: {:.4f}, {}: {:.4f}, Valid Loss : {}'.format(epoch+1, epochs, val_loss, accuracy.__name__, accur, loss))"
   ]
  },
  {
   "cell_type": "markdown",
   "metadata": {
    "id": "cZYfHbqXfpAS",
    "pycharm": {
     "name": "#%% md\n"
    }
   },
   "source": [
    "**Saving and reloading the model**"
   ]
  },
  {
   "cell_type": "code",
   "execution_count": null,
   "metadata": {
    "colab": {
     "base_uri": "https://localhost:8080/"
    },
    "id": "cNPws5NsfsMb",
    "outputId": "629a856d-cf4e-40d2-a219-400eb8b5045a",
    "pycharm": {
     "name": "#%%\n"
    }
   },
   "outputs": [
    {
     "data": {
      "text/plain": [
       "LogRegression(\n",
       "  (linear): Linear(in_features=3072, out_features=10, bias=True)\n",
       ")"
      ]
     },
     "execution_count": 10,
     "metadata": {},
     "output_type": "execute_result"
    }
   ],
   "source": [
    "# save weight to file\n",
    "torch.save(logmodel.state_dict(), \"./logisticModel.mod\")\n",
    "# loading weight from file\n",
    "logmodel.load_state_dict(torch.load(\"./logisticModel.mod\"))\n",
    "logmodel.eval()"
   ]
  },
  {
   "cell_type": "markdown",
   "metadata": {
    "id": "XdePr8s4gD02",
    "pycharm": {
     "name": "#%% md\n"
    }
   },
   "source": [
    "**Testing the model on test dataset**"
   ]
  },
  {
   "cell_type": "code",
   "execution_count": null,
   "metadata": {
    "colab": {
     "base_uri": "https://localhost:8080/"
    },
    "id": "gS8MGsVFgHux",
    "outputId": "9ad67229-9fdd-431b-92f4-26d0c1a419a5",
    "pycharm": {
     "name": "#%%\n"
    }
   },
   "outputs": [
    {
     "name": "stdout",
     "output_type": "stream",
     "text": [
      "Accuracy on the Test dataset : accuracy: 0.4133\n"
     ]
    }
   ],
   "source": [
    "_, _, accur = evaluate(logmodel, lossFunction, eval_data_loader, accuracy)\n",
    "print('Accuracy on the Test dataset : {}: {:.4f}'.format( accuracy.__name__, accur))"
   ]
  },
  {
   "cell_type": "markdown",
   "metadata": {
    "id": "woHAL_WsR_an",
    "pycharm": {
     "name": "#%% md\n"
    }
   },
   "source": [
    "### **2. SVM w/o kernel**\n"
   ]
  },
  {
   "cell_type": "markdown",
   "metadata": {
    "id": "JBN7FCBBBa9Q",
    "pycharm": {
     "name": "#%% md\n"
    }
   },
   "source": [
    "In the case of support vector machines, a data point is viewed as a p-dimensional vector, and we want to know whether we can separate such points with a (p-1)-dimensional hyperplane. This is called a linear classifier. There are many hyperplanes that might classify the data. One reasonable choice as the best hyperplane is the one that represents the largest separation, or margin, between the two classes. So we choose the hyperplane such that the distance from it to the nearest data point on each side is maximized.\n",
    "\n",
    "<img src=\"https://miro.medium.com/max/1162/1*-4FOSXGyV6CSUOrOPEFc9g.png\">\n",
    "\n",
    "We have achieved an accuracy of 35% approx. for CIFAR-10 dataset through this linear SVM. But, in reality the data is non-linear. So, let's explore another method to classify the images using SVM with a kernel."
   ]
  },
  {
   "cell_type": "markdown",
   "metadata": {
    "id": "nrBVzAIPThrn",
    "pycharm": {
     "name": "#%% md\n"
    }
   },
   "source": [
    "**Loading the dataset using keras and splitting them**"
   ]
  },
  {
   "cell_type": "code",
   "execution_count": null,
   "metadata": {
    "colab": {
     "base_uri": "https://localhost:8080/"
    },
    "id": "cVvlWToWSWo8",
    "outputId": "3608a2a0-2f4f-41de-eaca-b39329924dee",
    "pycharm": {
     "name": "#%%\n"
    }
   },
   "outputs": [
    {
     "name": "stdout",
     "output_type": "stream",
     "text": [
      "Downloading data from https://www.cs.toronto.edu/~kriz/cifar-10-python.tar.gz\n",
      "170500096/170498071 [==============================] - 6s 0us/step\n",
      "170508288/170498071 [==============================] - 6s 0us/step\n"
     ]
    }
   ],
   "source": [
    "baseDir = os.path.dirname(os.path.abspath('__file__')) + '/'\n",
    "classes = ['plane', 'car', 'bird', 'cat', 'deer', 'dog', 'frog', 'horse', 'ship', 'truck']\n",
    "(xTrain, yTrain), (xTest, yTest) = cifar10.load_data()\n",
    "xVal = xTrain[49000:, :].astype(np.double)\n",
    "yVal = np.squeeze(yTrain[49000:, :])\n",
    "xTrain = xTrain[:49000, :].astype(np.double)\n",
    "yTrain = np.squeeze(yTrain[:49000, :])\n",
    "yTest = np.squeeze(yTest)\n",
    "xTest = xTest.astype(np.double)"
   ]
  },
  {
   "cell_type": "markdown",
   "metadata": {
    "id": "nRv2HXOwT2Ly",
    "pycharm": {
     "name": "#%% md\n"
    }
   },
   "source": [
    "**Preprocessing the dataset**"
   ]
  },
  {
   "cell_type": "code",
   "execution_count": null,
   "metadata": {
    "id": "j5d5ljF8S9Ee",
    "pycharm": {
     "name": "#%%\n"
    }
   },
   "outputs": [],
   "source": [
    "# Normalizing the data by subtract the mean image\n",
    "meanImage = np.mean(xTrain, axis=0)\n",
    "xTrain -= meanImage\n",
    "xVal -= meanImage\n",
    "xTest -= meanImage\n",
    "\n",
    "# Reshaping the data from channel to rows\n",
    "xTrain = np.reshape(xTrain, (xTrain.shape[0], -1))\n",
    "xVal = np.reshape(xVal, (xVal.shape[0], -1))\n",
    "xTest = np.reshape(xTest, (xTest.shape[0], -1))\n"
   ]
  },
  {
   "cell_type": "markdown",
   "metadata": {
    "id": "ByQYjXDPUESY",
    "pycharm": {
     "name": "#%% md\n"
    }
   },
   "source": [
    "**Creating an SVM class to handle the loss function, training and evaluation**"
   ]
  },
  {
   "cell_type": "code",
   "execution_count": null,
   "metadata": {
    "id": "bycjFpgnTAVT",
    "pycharm": {
     "name": "#%%\n"
    }
   },
   "outputs": [],
   "source": [
    "class Svm (object):\n",
    "    \"\"\"\" Svm classifier \"\"\"\n",
    "\n",
    "    def __init__ (self, inputDim, outputDim):\n",
    "        self.W = None\n",
    "\n",
    "        sigma =0.01\n",
    "        self.W = sigma * np.random.randn(inputDim,outputDim)\n",
    "\n",
    "\n",
    "    def calLoss (self, x, y, reg):\n",
    "\n",
    "        loss = 0.0\n",
    "        dW = np.zeros_like(self.W)\n",
    "\n",
    "        s = x.dot(self.W)\n",
    "        #Score with yi\n",
    "        s_yi = s[np.arange(x.shape[0]),y]\n",
    "        #finding the delta\n",
    "        delta = s- s_yi[:,np.newaxis]+1\n",
    "        #loss for samples\n",
    "        loss_i = np.maximum(0,delta)\n",
    "        loss_i[np.arange(x.shape[0]),y]=0\n",
    "        loss = np.sum(loss_i)/x.shape[0]\n",
    "        #Loss with regularization\n",
    "        loss += reg*np.sum(self.W*self.W)\n",
    "        #Calculating ds\n",
    "        ds = np.zeros_like(delta)\n",
    "        ds[delta > 0] = 1\n",
    "        ds[np.arange(x.shape[0]),y] = 0\n",
    "        ds[np.arange(x.shape[0]),y] = -np.sum(ds, axis=1)\n",
    "\n",
    "        dW = (1/x.shape[0]) * (x.T).dot(ds)\n",
    "        dW = dW + (2* reg* self.W)\n",
    "        \n",
    "        return loss, dW\n",
    "\n",
    "    def train (self, x, y, lr=1e-3, reg=1e-5, iter=100, batchSize=200, verbose=False):\n",
    "\n",
    "\n",
    "        # Run stochastic gradient descent to optimize W.\n",
    "        lossHistory = []\n",
    "        for i in range(iter):\n",
    "            xBatch = None\n",
    "            yBatch = None\n",
    "\n",
    "            num_train = np.random.choice(x.shape[0], batchSize)\n",
    "            xBatch = x[num_train]\n",
    "            yBatch = y[num_train]\n",
    "            loss, dW = self.calLoss(xBatch,yBatch,reg)\n",
    "            self.W= self.W - lr * dW\n",
    "            lossHistory.append(loss)\n",
    "\n",
    "            if verbose and i % 100 == 0 and len(lossHistory) is not 0:\n",
    "                print ('Loop {0} loss {1}'.format(i, lossHistory[i]))\n",
    "\n",
    "        return lossHistory\n",
    "\n",
    "    def predict (self, x,):\n",
    "\n",
    "        yPred = np.zeros(x.shape[0])\n",
    "\n",
    "        s = x.dot(self.W)\n",
    "        yPred = np.argmax(s, axis=1)\n",
    "\n",
    "        return yPred\n",
    "\n",
    "\n",
    "    def calAccuracy (self, x, y):\n",
    "        acc = 0\n",
    "\n",
    "        yPred = self.predict(x)\n",
    "        acc = np.mean(y == yPred)*100\n",
    "\n",
    "        return acc"
   ]
  },
  {
   "cell_type": "markdown",
   "metadata": {
    "id": "-vBlc7fAWpF-",
    "pycharm": {
     "name": "#%% md\n"
    }
   },
   "source": [
    "**Creating a classifier object from SVM class**"
   ]
  },
  {
   "cell_type": "code",
   "execution_count": null,
   "metadata": {
    "colab": {
     "base_uri": "https://localhost:8080/"
    },
    "id": "6-0t-8NVTHVQ",
    "outputId": "1b681de3-e861-4c30-b9f7-096fb34f83c8",
    "pycharm": {
     "name": "#%%\n"
    }
   },
   "outputs": [
    {
     "name": "stdout",
     "output_type": "stream",
     "text": [
      "Start training Svm classifier\n"
     ]
    }
   ],
   "source": [
    "print ('Start training Svm classifier')\n",
    "numClasses = np.max(yTrain) + 1\n",
    "classifier = Svm(xTrain.shape[1], numClasses)"
   ]
  },
  {
   "cell_type": "markdown",
   "metadata": {
    "id": "1Qz0zOReXC2Q",
    "pycharm": {
     "name": "#%% md\n"
    }
   },
   "source": [
    "**Training the classifer object on the dataset**"
   ]
  },
  {
   "cell_type": "code",
   "execution_count": null,
   "metadata": {
    "colab": {
     "base_uri": "https://localhost:8080/"
    },
    "id": "LkDCgP5GTfzW",
    "outputId": "68fcf6fd-e9a3-4415-d86c-313b6c08e081",
    "pycharm": {
     "name": "#%%\n"
    }
   },
   "outputs": [
    {
     "name": "stdout",
     "output_type": "stream",
     "text": [
      "Loop 0 loss 150772.64566380196\n",
      "Loop 100 loss 20192.52557583009\n",
      "Loop 200 loss 2704.8804927667443\n",
      "Loop 300 loss 364.846878748212\n",
      "Loop 400 loss 53.572865933457\n",
      "Loop 500 loss 12.02585346416596\n",
      "Loop 600 loss 6.030565098804127\n",
      "Loop 700 loss 5.44140900608669\n",
      "Loop 800 loss 5.797794275913286\n",
      "Loop 900 loss 6.135262204845539\n",
      "Loop 1000 loss 5.564469246820826\n",
      "Loop 1100 loss 6.088734518313287\n",
      "Loop 1200 loss 6.107742522861353\n",
      "Loop 1300 loss 5.653126318377271\n",
      "Loop 1400 loss 5.787209486279857\n"
     ]
    }
   ],
   "source": [
    "# Training classifier\n",
    "loss_hist = classifier.train(xTrain, yTrain, lr=1e-7, reg=5e4, iter=1500 ,verbose=True)"
   ]
  },
  {
   "cell_type": "markdown",
   "metadata": {
    "id": "pmsmG81BMxxq",
    "pycharm": {
     "name": "#%% md\n"
    }
   },
   "source": [
    "**Calculating the accuracy of the model**"
   ]
  },
  {
   "cell_type": "code",
   "execution_count": null,
   "metadata": {
    "colab": {
     "base_uri": "https://localhost:8080/"
    },
    "id": "Nufy4eUuMuyW",
    "outputId": "8bce3133-88dc-42d4-a556-7fd545153046",
    "pycharm": {
     "name": "#%%\n"
    }
   },
   "outputs": [
    {
     "name": "stdout",
     "output_type": "stream",
     "text": [
      "Training acc:   35.94489795918368%\n",
      "Validating acc: 36.5%\n",
      "Testing acc:    35.58%\n"
     ]
    }
   ],
   "source": [
    "print ('Training acc:   {0}%'.format(classifier.calAccuracy(xTrain, yTrain)))\n",
    "print ('Validating acc: {0}%'.format(classifier.calAccuracy(xVal, yVal)))\n",
    "print ('Testing acc:    {0}%'.format(classifier.calAccuracy(xTest, yTest)))"
   ]
  },
  {
   "cell_type": "markdown",
   "metadata": {
    "id": "mHq6MJUGSISg",
    "pycharm": {
     "name": "#%% md\n"
    }
   },
   "source": [
    "### **3. SVM w/ kernel (extra)**"
   ]
  },
  {
   "cell_type": "markdown",
   "metadata": {
    "id": "i3X2jaWMBgPZ",
    "pycharm": {
     "name": "#%% md\n"
    }
   },
   "source": [
    "If we want to apply SVMs to non-linear problems, we use the kernel trick. A kernel is a function that takes the original non-linear problem and transforms it into a linear one within the higher-dimensional space. \n",
    "RBF is the default kernel used within the sklearn’s SVM classification algorithm and can be described with the following formula:\n",
    "\n",
    "<img src=\"https://miro.medium.com/max/728/1*A-8LqEJEyedmdePZYke-IA.png\">\n",
    "\n",
    "where gamma can be set manually and has to be >0. The default value for gamma in sklearn’s SVM classification algorithm is:\n",
    "\n",
    "<img src=\"https://miro.medium.com/max/400/1*obsw3v2O_eCdqqFajcTvfw.png\">\n",
    "\n",
    "Briefly:\n",
    "* ||x - x'||² is the squared Euclidean distance between two feature vectors (2 points).\n",
    "* Gamma is a scalar that defines how much influence a single training example (point) has. \n",
    "\n",
    "So, given the above setup, we can control individual points' influence on the overall algorithm. The larger gamma is, the closer other points must be to affect the model. If gamma='scale' (default) is passed then it uses 1 / (n_features * X.var()) as value of gamma, and C is the Regularization parameter. The strength of the regularization is inversely proportional to C. Must be strictly positive. The penalty is a squared l2 penalty. \n",
    "\n",
    "By this method, when we classify Cifar-10 dataset after normalizing and scaling the dataset, it gives an accuracy of 54% approx. which is apparrently better than linear SVM(35%). We have noticed here that both the models converge."
   ]
  },
  {
   "cell_type": "markdown",
   "metadata": {
    "id": "jvYDf5ttdsyB",
    "pycharm": {
     "name": "#%% md\n"
    }
   },
   "source": [
    "**Using scikit-learn library for fitting the model**"
   ]
  },
  {
   "cell_type": "code",
   "execution_count": null,
   "metadata": {
    "colab": {
     "base_uri": "https://localhost:8080/"
    },
    "id": "IkzRiMsAX4FB",
    "outputId": "e2b173ac-76d4-4d8a-e6e8-0c48009857f2",
    "pycharm": {
     "name": "#%%\n"
    }
   },
   "outputs": [
    {
     "data": {
      "text/plain": [
       "SVC(random_state=0)"
      ]
     },
     "execution_count": 35,
     "metadata": {},
     "output_type": "execute_result"
    }
   ],
   "source": [
    "from sklearn.svm import SVC\n",
    "classifier = SVC(kernel = 'rbf', random_state = 0)\n",
    "classifier.fit(xTrain, yTrain)"
   ]
  },
  {
   "cell_type": "markdown",
   "metadata": {
    "id": "lk9kiNoMd546",
    "pycharm": {
     "name": "#%% md\n"
    }
   },
   "source": [
    "**Using scikit-learn library for predicting model's accuracy on 1K data**"
   ]
  },
  {
   "cell_type": "code",
   "execution_count": null,
   "metadata": {
    "colab": {
     "background_save": true
    },
    "id": "dVv70-hlYElP",
    "outputId": "d3820821-1e22-49d2-e579-d96573b05852",
    "pycharm": {
     "name": "#%%\n"
    }
   },
   "outputs": [
    {
     "data": {
      "text/plain": [
       "0.5448"
      ]
     },
     "execution_count": null,
     "metadata": {},
     "output_type": "execute_result"
    }
   ],
   "source": [
    "from sklearn.metrics import accuracy_score\n",
    "y_pred = classifier.predict(xTest)\n",
    "accuracy_score(yTest, y_pred)"
   ]
  },
  {
   "cell_type": "markdown",
   "metadata": {
    "id": "KSYwozCfSNJj",
    "pycharm": {
     "name": "#%% md\n"
    }
   },
   "source": [
    "### **4. DNN w/o convolution layer**\n"
   ]
  },
  {
   "cell_type": "markdown",
   "metadata": {
    "id": "uHm-QRy0FgB8",
    "pycharm": {
     "name": "#%% md\n"
    }
   },
   "source": [
    "For our deep neural network without convolution, We'll use four hidden layers with input nodes of 2560, 768, 256, and 64, respectively. The rectified linear unit activation function (ReLu) is a transition function that applies max(x, 0) to an input x in the forward pass function. Because it does not activate all nodes inside a layer, this transition function is popular for neural networks because it makes the model non-linear."
   ]
  },
  {
   "cell_type": "markdown",
   "metadata": {
    "id": "iM403iFTYxae",
    "pycharm": {
     "name": "#%% md\n"
    }
   },
   "source": [
    "**Defining DNN class**"
   ]
  },
  {
   "cell_type": "code",
   "execution_count": 10,
   "metadata": {
    "id": "BYFM1nMPZC3C",
    "pycharm": {
     "name": "#%%\n"
    }
   },
   "outputs": [],
   "source": [
    "class CifarDNN(nn.Module):\n",
    "    def __init__(self, inputSize, outputSize):\n",
    "        super(CifarDNN,self).__init__()\n",
    "        self.hidden1 = nn.Linear(inputSize, 2560)\n",
    "        self.hidden2 = nn.Linear(2560, 768)\n",
    "        self.hidden3 = nn.Linear(768, 256)\n",
    "        self.hidden4 = nn.Linear(256, 64)\n",
    "        self.output = nn.Linear(64, outputSize)\n",
    "\n",
    "    def forward(self, x):\n",
    "        x = x.reshape(-1, 3072)\n",
    "        x = self.hidden1(x)\n",
    "        x = F.relu(x)\n",
    "        x = self.hidden2(x)\n",
    "        x = F.relu(x)\n",
    "        x = self.hidden3(x)\n",
    "        x = F.relu(x)\n",
    "        x = self.hidden4(x)\n",
    "        x = F.relu(x)\n",
    "        x = self.output(x)\n",
    "        return x"
   ]
  },
  {
   "cell_type": "markdown",
   "metadata": {
    "id": "ToZR8bgraAm-",
    "pycharm": {
     "name": "#%% md\n"
    }
   },
   "source": [
    "**Defining Model with input length 32 X 32 X 3 and output as 10**"
   ]
  },
  {
   "cell_type": "code",
   "execution_count": 11,
   "metadata": {
    "id": "AFGjQs00aKIF",
    "pycharm": {
     "name": "#%%\n"
    }
   },
   "outputs": [],
   "source": [
    "outputSize = numClasses\n",
    "dnnmodel = CifarDNN(inputSize, outputSize).to(device)\n",
    "optimizer = torch.optim.SGD(dnnmodel.parameters(), momentum=0.7, lr=0.01)\n",
    "scheduler = optim.lr_scheduler.ReduceLROnPlateau(optimizer, mode='min', factor=0.1, patience=10, verbose=True, min_lr=0)\n",
    "loss_func = torch.nn.CrossEntropyLoss()"
   ]
  },
  {
   "cell_type": "markdown",
   "metadata": {
    "id": "kcsADeVWa9Sg",
    "pycharm": {
     "name": "#%% md\n"
    }
   },
   "source": [
    "**Training DNN**"
   ]
  },
  {
   "cell_type": "code",
   "execution_count": 12,
   "metadata": {
    "colab": {
     "base_uri": "https://localhost:8080/"
    },
    "id": "buU5EtLSbEQt",
    "outputId": "5c29d193-4d9f-4bf1-b378-8d5964520ff1",
    "pycharm": {
     "name": "#%%\n"
    }
   },
   "outputs": [
    {
     "name": "stdout",
     "output_type": "stream",
     "text": [
      "Test set: Epoch [0]:Step[0] Average loss: 0.0230, Accuracy: 1045/10000 (10.450%)\n",
      "\n",
      "Test set: Epoch [0]:Step[50] Average loss: 0.0230, Accuracy: 1085/10000 (10.850%)\n",
      "\n",
      "Test set: Epoch [0]:Step[100] Average loss: 0.0229, Accuracy: 1517/10000 (15.170%)\n",
      "\n",
      "Test set: Epoch [0]:Step[150] Average loss: 0.0228, Accuracy: 1586/10000 (15.860%)\n",
      "\n",
      "Test set: Epoch [0]:Step[200] Average loss: 0.0225, Accuracy: 1934/10000 (19.340%)\n",
      "\n",
      "Test set: Epoch [0]:Step[250] Average loss: 0.0221, Accuracy: 2131/10000 (21.310%)\n",
      "\n",
      "Test set: Epoch [0]:Step[300] Average loss: 0.0213, Accuracy: 2282/10000 (22.820%)\n",
      "\n",
      "Test set: Epoch [0]:Step[350] Average loss: 0.0206, Accuracy: 2568/10000 (25.680%)\n",
      "\n",
      "Test set: Epoch [1]:Step[0] Average loss: 0.0201, Accuracy: 2600/10000 (26.000%)\n",
      "\n",
      "Test set: Epoch [1]:Step[50] Average loss: 0.0197, Accuracy: 2754/10000 (27.540%)\n",
      "\n",
      "Test set: Epoch [1]:Step[100] Average loss: 0.0193, Accuracy: 2856/10000 (28.560%)\n",
      "\n",
      "Test set: Epoch [1]:Step[150] Average loss: 0.0190, Accuracy: 2972/10000 (29.720%)\n",
      "\n",
      "Test set: Epoch [1]:Step[200] Average loss: 0.0187, Accuracy: 3102/10000 (31.020%)\n",
      "\n",
      "Test set: Epoch [1]:Step[250] Average loss: 0.0184, Accuracy: 3220/10000 (32.200%)\n",
      "\n",
      "Test set: Epoch [1]:Step[300] Average loss: 0.0181, Accuracy: 3393/10000 (33.930%)\n",
      "\n",
      "Test set: Epoch [1]:Step[350] Average loss: 0.0178, Accuracy: 3449/10000 (34.490%)\n",
      "\n",
      "Test set: Epoch [2]:Step[0] Average loss: 0.0176, Accuracy: 3522/10000 (35.220%)\n",
      "\n",
      "Test set: Epoch [2]:Step[50] Average loss: 0.0175, Accuracy: 3640/10000 (36.400%)\n",
      "\n",
      "Test set: Epoch [2]:Step[100] Average loss: 0.0171, Accuracy: 3785/10000 (37.850%)\n",
      "\n",
      "Test set: Epoch [2]:Step[150] Average loss: 0.0170, Accuracy: 3837/10000 (38.370%)\n",
      "\n",
      "Test set: Epoch [2]:Step[200] Average loss: 0.0169, Accuracy: 3945/10000 (39.450%)\n",
      "\n",
      "Test set: Epoch [2]:Step[250] Average loss: 0.0167, Accuracy: 4047/10000 (40.470%)\n",
      "\n",
      "Test set: Epoch [2]:Step[300] Average loss: 0.0165, Accuracy: 4011/10000 (40.110%)\n",
      "\n",
      "Test set: Epoch [2]:Step[350] Average loss: 0.0162, Accuracy: 4206/10000 (42.060%)\n",
      "\n",
      "Test set: Epoch [3]:Step[0] Average loss: 0.0161, Accuracy: 4222/10000 (42.220%)\n",
      "\n",
      "Test set: Epoch [3]:Step[50] Average loss: 0.0159, Accuracy: 4270/10000 (42.700%)\n",
      "\n",
      "Test set: Epoch [3]:Step[100] Average loss: 0.0158, Accuracy: 4364/10000 (43.640%)\n",
      "\n",
      "Test set: Epoch [3]:Step[150] Average loss: 0.0157, Accuracy: 4339/10000 (43.390%)\n",
      "\n",
      "Test set: Epoch [3]:Step[200] Average loss: 0.0156, Accuracy: 4458/10000 (44.580%)\n",
      "\n",
      "Test set: Epoch [3]:Step[250] Average loss: 0.0153, Accuracy: 4550/10000 (45.500%)\n",
      "\n",
      "Test set: Epoch [3]:Step[300] Average loss: 0.0154, Accuracy: 4486/10000 (44.860%)\n",
      "\n",
      "Test set: Epoch [3]:Step[350] Average loss: 0.0154, Accuracy: 4498/10000 (44.980%)\n",
      "\n",
      "Test set: Epoch [4]:Step[0] Average loss: 0.0153, Accuracy: 4583/10000 (45.830%)\n",
      "\n",
      "Test set: Epoch [4]:Step[50] Average loss: 0.0151, Accuracy: 4595/10000 (45.950%)\n",
      "\n",
      "Test set: Epoch [4]:Step[100] Average loss: 0.0150, Accuracy: 4668/10000 (46.680%)\n",
      "\n",
      "Test set: Epoch [4]:Step[150] Average loss: 0.0149, Accuracy: 4684/10000 (46.840%)\n",
      "\n",
      "Test set: Epoch [4]:Step[200] Average loss: 0.0149, Accuracy: 4610/10000 (46.100%)\n",
      "\n",
      "Test set: Epoch [4]:Step[250] Average loss: 0.0149, Accuracy: 4663/10000 (46.630%)\n",
      "\n",
      "Test set: Epoch [4]:Step[300] Average loss: 0.0148, Accuracy: 4753/10000 (47.530%)\n",
      "\n",
      "Test set: Epoch [4]:Step[350] Average loss: 0.0146, Accuracy: 4803/10000 (48.030%)\n",
      "\n",
      "Test set: Epoch [5]:Step[0] Average loss: 0.0145, Accuracy: 4868/10000 (48.680%)\n",
      "\n",
      "Test set: Epoch [5]:Step[50] Average loss: 0.0145, Accuracy: 4843/10000 (48.430%)\n",
      "\n",
      "Test set: Epoch [5]:Step[100] Average loss: 0.0146, Accuracy: 4817/10000 (48.170%)\n",
      "\n",
      "Test set: Epoch [5]:Step[150] Average loss: 0.0146, Accuracy: 4816/10000 (48.160%)\n",
      "\n",
      "Test set: Epoch [5]:Step[200] Average loss: 0.0145, Accuracy: 4932/10000 (49.320%)\n",
      "\n",
      "Test set: Epoch [5]:Step[250] Average loss: 0.0143, Accuracy: 4910/10000 (49.100%)\n",
      "\n",
      "Test set: Epoch [5]:Step[300] Average loss: 0.0143, Accuracy: 4957/10000 (49.570%)\n",
      "\n",
      "Test set: Epoch [5]:Step[350] Average loss: 0.0141, Accuracy: 4950/10000 (49.500%)\n",
      "\n",
      "Test set: Epoch [6]:Step[0] Average loss: 0.0143, Accuracy: 4903/10000 (49.030%)\n",
      "\n",
      "Test set: Epoch [6]:Step[50] Average loss: 0.0143, Accuracy: 4968/10000 (49.680%)\n",
      "\n",
      "Test set: Epoch [6]:Step[100] Average loss: 0.0144, Accuracy: 4896/10000 (48.960%)\n",
      "\n",
      "Test set: Epoch [6]:Step[150] Average loss: 0.0141, Accuracy: 5008/10000 (50.080%)\n",
      "\n",
      "Test set: Epoch [6]:Step[200] Average loss: 0.0143, Accuracy: 4944/10000 (49.440%)\n",
      "\n",
      "Test set: Epoch [6]:Step[250] Average loss: 0.0143, Accuracy: 4988/10000 (49.880%)\n",
      "\n",
      "Test set: Epoch [6]:Step[300] Average loss: 0.0139, Accuracy: 5064/10000 (50.640%)\n",
      "\n",
      "Test set: Epoch [6]:Step[350] Average loss: 0.0141, Accuracy: 5010/10000 (50.100%)\n",
      "\n",
      "Test set: Epoch [7]:Step[0] Average loss: 0.0139, Accuracy: 5027/10000 (50.270%)\n",
      "\n",
      "Test set: Epoch [7]:Step[50] Average loss: 0.0141, Accuracy: 5064/10000 (50.640%)\n",
      "\n",
      "Test set: Epoch [7]:Step[100] Average loss: 0.0145, Accuracy: 4949/10000 (49.490%)\n",
      "\n",
      "Test set: Epoch [7]:Step[150] Average loss: 0.0141, Accuracy: 5014/10000 (50.140%)\n",
      "\n",
      "Test set: Epoch [7]:Step[200] Average loss: 0.0139, Accuracy: 5083/10000 (50.830%)\n",
      "\n",
      "Test set: Epoch [7]:Step[250] Average loss: 0.0142, Accuracy: 5008/10000 (50.080%)\n",
      "\n",
      "Test set: Epoch [7]:Step[300] Average loss: 0.0138, Accuracy: 5120/10000 (51.200%)\n",
      "\n",
      "Test set: Epoch [7]:Step[350] Average loss: 0.0143, Accuracy: 4966/10000 (49.660%)\n",
      "\n",
      "Test set: Epoch [8]:Step[0] Average loss: 0.0137, Accuracy: 5130/10000 (51.300%)\n",
      "\n",
      "Test set: Epoch [8]:Step[50] Average loss: 0.0139, Accuracy: 5128/10000 (51.280%)\n",
      "\n",
      "Test set: Epoch [8]:Step[100] Average loss: 0.0140, Accuracy: 5126/10000 (51.260%)\n",
      "\n",
      "Test set: Epoch [8]:Step[150] Average loss: 0.0141, Accuracy: 5026/10000 (50.260%)\n",
      "\n",
      "Test set: Epoch [8]:Step[200] Average loss: 0.0139, Accuracy: 5102/10000 (51.020%)\n",
      "\n",
      "Test set: Epoch [8]:Step[250] Average loss: 0.0139, Accuracy: 5102/10000 (51.020%)\n",
      "\n",
      "Test set: Epoch [8]:Step[300] Average loss: 0.0143, Accuracy: 4996/10000 (49.960%)\n",
      "\n",
      "Test set: Epoch [8]:Step[350] Average loss: 0.0139, Accuracy: 5183/10000 (51.830%)\n",
      "\n",
      "Test set: Epoch [9]:Step[0] Average loss: 0.0142, Accuracy: 5119/10000 (51.190%)\n",
      "\n",
      "Test set: Epoch [9]:Step[50] Average loss: 0.0142, Accuracy: 5072/10000 (50.720%)\n",
      "\n",
      "Test set: Epoch [9]:Step[100] Average loss: 0.0142, Accuracy: 5054/10000 (50.540%)\n",
      "\n",
      "Test set: Epoch [9]:Step[150] Average loss: 0.0143, Accuracy: 5097/10000 (50.970%)\n",
      "\n",
      "Test set: Epoch [9]:Step[200] Average loss: 0.0138, Accuracy: 5239/10000 (52.390%)\n",
      "\n",
      "Test set: Epoch [9]:Step[250] Average loss: 0.0139, Accuracy: 5176/10000 (51.760%)\n",
      "\n",
      "Test set: Epoch [9]:Step[300] Average loss: 0.0140, Accuracy: 5140/10000 (51.400%)\n",
      "\n",
      "Test set: Epoch [9]:Step[350] Average loss: 0.0138, Accuracy: 5190/10000 (51.900%)\n",
      "\n",
      "Test set: Epoch [10]:Step[0] Average loss: 0.0141, Accuracy: 5132/10000 (51.320%)\n",
      "\n",
      "Test set: Epoch [10]:Step[50] Average loss: 0.0141, Accuracy: 5168/10000 (51.680%)\n",
      "\n",
      "Test set: Epoch [10]:Step[100] Average loss: 0.0143, Accuracy: 5130/10000 (51.300%)\n",
      "\n",
      "Test set: Epoch [10]:Step[150] Average loss: 0.0138, Accuracy: 5268/10000 (52.680%)\n",
      "\n",
      "Test set: Epoch [10]:Step[200] Average loss: 0.0140, Accuracy: 5196/10000 (51.960%)\n",
      "\n",
      "Test set: Epoch [10]:Step[250] Average loss: 0.0140, Accuracy: 5195/10000 (51.950%)\n",
      "\n",
      "Test set: Epoch [10]:Step[300] Average loss: 0.0142, Accuracy: 5151/10000 (51.510%)\n",
      "\n",
      "Test set: Epoch [10]:Step[350] Average loss: 0.0138, Accuracy: 5279/10000 (52.790%)\n",
      "\n",
      "Test set: Epoch [11]:Step[0] Average loss: 0.0140, Accuracy: 5239/10000 (52.390%)\n",
      "\n",
      "Test set: Epoch [11]:Step[50] Average loss: 0.0144, Accuracy: 5152/10000 (51.520%)\n",
      "\n",
      "Test set: Epoch [11]:Step[100] Average loss: 0.0139, Accuracy: 5303/10000 (53.030%)\n",
      "\n",
      "Test set: Epoch [11]:Step[150] Average loss: 0.0145, Accuracy: 5123/10000 (51.230%)\n",
      "\n",
      "Test set: Epoch [11]:Step[200] Average loss: 0.0141, Accuracy: 5262/10000 (52.620%)\n",
      "\n",
      "Test set: Epoch [11]:Step[250] Average loss: 0.0145, Accuracy: 5185/10000 (51.850%)\n",
      "\n",
      "Test set: Epoch [11]:Step[300] Average loss: 0.0141, Accuracy: 5231/10000 (52.310%)\n",
      "\n",
      "Test set: Epoch [11]:Step[350] Average loss: 0.0144, Accuracy: 5174/10000 (51.740%)\n",
      "\n",
      "Test set: Epoch [12]:Step[0] Average loss: 0.0137, Accuracy: 5355/10000 (53.550%)\n",
      "\n",
      "Test set: Epoch [12]:Step[50] Average loss: 0.0145, Accuracy: 5266/10000 (52.660%)\n",
      "\n",
      "Test set: Epoch [12]:Step[100] Average loss: 0.0144, Accuracy: 5233/10000 (52.330%)\n",
      "\n",
      "Test set: Epoch [12]:Step[150] Average loss: 0.0144, Accuracy: 5278/10000 (52.780%)\n",
      "\n",
      "Test set: Epoch [12]:Step[200] Average loss: 0.0144, Accuracy: 5262/10000 (52.620%)\n",
      "\n",
      "Test set: Epoch [12]:Step[250] Average loss: 0.0141, Accuracy: 5424/10000 (54.240%)\n",
      "\n",
      "Test set: Epoch [12]:Step[300] Average loss: 0.0147, Accuracy: 5156/10000 (51.560%)\n",
      "\n",
      "Test set: Epoch [12]:Step[350] Average loss: 0.0140, Accuracy: 5310/10000 (53.100%)\n",
      "\n",
      "Test set: Epoch [13]:Step[0] Average loss: 0.0147, Accuracy: 5199/10000 (51.990%)\n",
      "\n",
      "Test set: Epoch [13]:Step[50] Average loss: 0.0149, Accuracy: 5203/10000 (52.030%)\n",
      "\n",
      "Test set: Epoch [13]:Step[100] Average loss: 0.0150, Accuracy: 5234/10000 (52.340%)\n",
      "\n",
      "Test set: Epoch [13]:Step[150] Average loss: 0.0145, Accuracy: 5228/10000 (52.280%)\n",
      "\n",
      "Test set: Epoch [13]:Step[200] Average loss: 0.0149, Accuracy: 5208/10000 (52.080%)\n",
      "\n",
      "Test set: Epoch [13]:Step[250] Average loss: 0.0145, Accuracy: 5342/10000 (53.420%)\n",
      "\n",
      "Test set: Epoch [13]:Step[300] Average loss: 0.0144, Accuracy: 5210/10000 (52.100%)\n",
      "\n",
      "Test set: Epoch [13]:Step[350] Average loss: 0.0142, Accuracy: 5422/10000 (54.220%)\n",
      "\n",
      "Test set: Epoch [14]:Step[0] Average loss: 0.0144, Accuracy: 5343/10000 (53.430%)\n",
      "\n",
      "Test set: Epoch [14]:Step[50] Average loss: 0.0149, Accuracy: 5267/10000 (52.670%)\n",
      "\n",
      "Test set: Epoch [14]:Step[100] Average loss: 0.0157, Accuracy: 5193/10000 (51.930%)\n",
      "\n",
      "Test set: Epoch [14]:Step[150] Average loss: 0.0146, Accuracy: 5370/10000 (53.700%)\n",
      "\n",
      "Test set: Epoch [14]:Step[200] Average loss: 0.0156, Accuracy: 5086/10000 (50.860%)\n",
      "\n",
      "Test set: Epoch [14]:Step[250] Average loss: 0.0145, Accuracy: 5373/10000 (53.730%)\n",
      "\n",
      "Test set: Epoch [14]:Step[300] Average loss: 0.0150, Accuracy: 5306/10000 (53.060%)\n",
      "\n",
      "Test set: Epoch [14]:Step[350] Average loss: 0.0149, Accuracy: 5199/10000 (51.990%)\n",
      "\n",
      "Test set: Epoch [15]:Step[0] Average loss: 0.0150, Accuracy: 5306/10000 (53.060%)\n",
      "\n",
      "Test set: Epoch [15]:Step[50] Average loss: 0.0156, Accuracy: 5296/10000 (52.960%)\n",
      "\n",
      "Test set: Epoch [15]:Step[100] Average loss: 0.0156, Accuracy: 5184/10000 (51.840%)\n",
      "\n",
      "Test set: Epoch [15]:Step[150] Average loss: 0.0157, Accuracy: 5315/10000 (53.150%)\n",
      "\n",
      "Test set: Epoch [15]:Step[200] Average loss: 0.0163, Accuracy: 5083/10000 (50.830%)\n",
      "\n",
      "Test set: Epoch [15]:Step[250] Average loss: 0.0154, Accuracy: 5346/10000 (53.460%)\n",
      "\n",
      "Test set: Epoch [15]:Step[300] Average loss: 0.0154, Accuracy: 5315/10000 (53.150%)\n",
      "\n",
      "Test set: Epoch [15]:Step[350] Average loss: 0.0150, Accuracy: 5411/10000 (54.110%)\n",
      "\n",
      "Test set: Epoch [16]:Step[0] Average loss: 0.0153, Accuracy: 5346/10000 (53.460%)\n",
      "\n",
      "Test set: Epoch [16]:Step[50] Average loss: 0.0156, Accuracy: 5320/10000 (53.200%)\n",
      "\n",
      "Test set: Epoch [16]:Step[100] Average loss: 0.0164, Accuracy: 5152/10000 (51.520%)\n",
      "\n",
      "Test set: Epoch [16]:Step[150] Average loss: 0.0162, Accuracy: 5216/10000 (52.160%)\n",
      "\n",
      "Test set: Epoch [16]:Step[200] Average loss: 0.0159, Accuracy: 5237/10000 (52.370%)\n",
      "\n",
      "Test set: Epoch [16]:Step[250] Average loss: 0.0162, Accuracy: 5197/10000 (51.970%)\n",
      "\n",
      "Test set: Epoch [16]:Step[300] Average loss: 0.0157, Accuracy: 5295/10000 (52.950%)\n",
      "\n",
      "Test set: Epoch [16]:Step[350] Average loss: 0.0159, Accuracy: 5339/10000 (53.390%)\n",
      "\n",
      "Test set: Epoch [17]:Step[0] Average loss: 0.0159, Accuracy: 5378/10000 (53.780%)\n",
      "\n",
      "Test set: Epoch [17]:Step[50] Average loss: 0.0161, Accuracy: 5276/10000 (52.760%)\n",
      "\n",
      "Test set: Epoch [17]:Step[100] Average loss: 0.0162, Accuracy: 5422/10000 (54.220%)\n",
      "\n",
      "Test set: Epoch [17]:Step[150] Average loss: 0.0166, Accuracy: 5308/10000 (53.080%)\n",
      "\n",
      "Test set: Epoch [17]:Step[200] Average loss: 0.0167, Accuracy: 5257/10000 (52.570%)\n",
      "\n",
      "Test set: Epoch [17]:Step[250] Average loss: 0.0171, Accuracy: 5234/10000 (52.340%)\n",
      "\n",
      "Test set: Epoch [17]:Step[300] Average loss: 0.0164, Accuracy: 5317/10000 (53.170%)\n",
      "\n",
      "Test set: Epoch [17]:Step[350] Average loss: 0.0164, Accuracy: 5415/10000 (54.150%)\n",
      "\n",
      "Test set: Epoch [18]:Step[0] Average loss: 0.0165, Accuracy: 5319/10000 (53.190%)\n",
      "\n",
      "Test set: Epoch [18]:Step[50] Average loss: 0.0168, Accuracy: 5439/10000 (54.390%)\n",
      "\n",
      "Test set: Epoch [18]:Step[100] Average loss: 0.0170, Accuracy: 5396/10000 (53.960%)\n",
      "\n",
      "Test set: Epoch [18]:Step[150] Average loss: 0.0170, Accuracy: 5302/10000 (53.020%)\n",
      "\n",
      "Test set: Epoch [18]:Step[200] Average loss: 0.0169, Accuracy: 5392/10000 (53.920%)\n",
      "\n",
      "Test set: Epoch [18]:Step[250] Average loss: 0.0176, Accuracy: 5284/10000 (52.840%)\n",
      "\n",
      "Test set: Epoch [18]:Step[300] Average loss: 0.0170, Accuracy: 5330/10000 (53.300%)\n",
      "\n",
      "Test set: Epoch [18]:Step[350] Average loss: 0.0173, Accuracy: 5316/10000 (53.160%)\n",
      "\n",
      "Test set: Epoch [19]:Step[0] Average loss: 0.0166, Accuracy: 5416/10000 (54.160%)\n",
      "\n",
      "Test set: Epoch [19]:Step[50] Average loss: 0.0176, Accuracy: 5371/10000 (53.710%)\n",
      "\n",
      "Test set: Epoch [19]:Step[100] Average loss: 0.0174, Accuracy: 5361/10000 (53.610%)\n",
      "\n",
      "Test set: Epoch [19]:Step[150] Average loss: 0.0184, Accuracy: 5212/10000 (52.120%)\n",
      "\n",
      "Test set: Epoch [19]:Step[200] Average loss: 0.0187, Accuracy: 5129/10000 (51.290%)\n",
      "\n",
      "Test set: Epoch [19]:Step[250] Average loss: 0.0179, Accuracy: 5229/10000 (52.290%)\n",
      "\n",
      "Test set: Epoch [19]:Step[300] Average loss: 0.0177, Accuracy: 5270/10000 (52.700%)\n",
      "\n",
      "Test set: Epoch [19]:Step[350] Average loss: 0.0181, Accuracy: 5277/10000 (52.770%)\n",
      "\n",
      "Test set: Epoch [20]:Step[0] Average loss: 0.0171, Accuracy: 5408/10000 (54.080%)\n",
      "\n",
      "Test set: Epoch [20]:Step[50] Average loss: 0.0178, Accuracy: 5419/10000 (54.190%)\n",
      "\n",
      "Test set: Epoch [20]:Step[100] Average loss: 0.0185, Accuracy: 5282/10000 (52.820%)\n",
      "\n",
      "Test set: Epoch [20]:Step[150] Average loss: 0.0185, Accuracy: 5255/10000 (52.550%)\n",
      "\n",
      "Test set: Epoch [20]:Step[200] Average loss: 0.0196, Accuracy: 5070/10000 (50.700%)\n",
      "\n",
      "Test set: Epoch [20]:Step[250] Average loss: 0.0182, Accuracy: 5270/10000 (52.700%)\n",
      "\n",
      "Test set: Epoch [20]:Step[300] Average loss: 0.0177, Accuracy: 5356/10000 (53.560%)\n",
      "\n",
      "Test set: Epoch [20]:Step[350] Average loss: 0.0181, Accuracy: 5350/10000 (53.500%)\n",
      "\n",
      "Test set: Epoch [21]:Step[0] Average loss: 0.0191, Accuracy: 5198/10000 (51.980%)\n",
      "\n",
      "Test set: Epoch [21]:Step[50] Average loss: 0.0189, Accuracy: 5317/10000 (53.170%)\n",
      "\n",
      "Test set: Epoch [21]:Step[100] Average loss: 0.0193, Accuracy: 5265/10000 (52.650%)\n",
      "\n",
      "Test set: Epoch [21]:Step[150] Average loss: 0.0193, Accuracy: 5261/10000 (52.610%)\n",
      "\n",
      "Test set: Epoch [21]:Step[200] Average loss: 0.0194, Accuracy: 5309/10000 (53.090%)\n",
      "\n",
      "Test set: Epoch [21]:Step[250] Average loss: 0.0192, Accuracy: 5290/10000 (52.900%)\n",
      "\n",
      "Test set: Epoch [21]:Step[300] Average loss: 0.0187, Accuracy: 5394/10000 (53.940%)\n",
      "\n",
      "Test set: Epoch [21]:Step[350] Average loss: 0.0195, Accuracy: 5242/10000 (52.420%)\n",
      "\n",
      "Test set: Epoch [22]:Step[0] Average loss: 0.0191, Accuracy: 5338/10000 (53.380%)\n",
      "\n",
      "Test set: Epoch [22]:Step[50] Average loss: 0.0194, Accuracy: 5423/10000 (54.230%)\n",
      "\n",
      "Test set: Epoch [22]:Step[100] Average loss: 0.0204, Accuracy: 5208/10000 (52.080%)\n",
      "\n",
      "Test set: Epoch [22]:Step[150] Average loss: 0.0201, Accuracy: 5266/10000 (52.660%)\n",
      "\n",
      "Test set: Epoch [22]:Step[200] Average loss: 0.0194, Accuracy: 5343/10000 (53.430%)\n",
      "\n",
      "Test set: Epoch [22]:Step[250] Average loss: 0.0203, Accuracy: 5272/10000 (52.720%)\n",
      "\n",
      "Test set: Epoch [22]:Step[300] Average loss: 0.0200, Accuracy: 5339/10000 (53.390%)\n",
      "\n",
      "Test set: Epoch [22]:Step[350] Average loss: 0.0198, Accuracy: 5298/10000 (52.980%)\n",
      "\n",
      "Test set: Epoch [23]:Step[0] Average loss: 0.0204, Accuracy: 5236/10000 (52.360%)\n",
      "\n",
      "Test set: Epoch [23]:Step[50] Average loss: 0.0207, Accuracy: 5351/10000 (53.510%)\n",
      "\n",
      "Test set: Epoch [23]:Step[100] Average loss: 0.0204, Accuracy: 5422/10000 (54.220%)\n",
      "\n",
      "Test set: Epoch [23]:Step[150] Average loss: 0.0203, Accuracy: 5383/10000 (53.830%)\n",
      "\n",
      "Test set: Epoch [23]:Step[200] Average loss: 0.0198, Accuracy: 5375/10000 (53.750%)\n",
      "\n",
      "Test set: Epoch [23]:Step[250] Average loss: 0.0195, Accuracy: 5514/10000 (55.140%)\n",
      "\n",
      "Test set: Epoch [23]:Step[300] Average loss: 0.0204, Accuracy: 5364/10000 (53.640%)\n",
      "\n",
      "Test set: Epoch [23]:Step[350] Average loss: 0.0209, Accuracy: 5248/10000 (52.480%)\n",
      "\n",
      "Test set: Epoch [24]:Step[0] Average loss: 0.0212, Accuracy: 5311/10000 (53.110%)\n",
      "\n",
      "Test set: Epoch [24]:Step[50] Average loss: 0.0217, Accuracy: 5331/10000 (53.310%)\n",
      "\n",
      "Test set: Epoch [24]:Step[100] Average loss: 0.0210, Accuracy: 5396/10000 (53.960%)\n",
      "\n",
      "Test set: Epoch [24]:Step[150] Average loss: 0.0220, Accuracy: 5360/10000 (53.600%)\n",
      "\n",
      "Test set: Epoch [24]:Step[200] Average loss: 0.0220, Accuracy: 5296/10000 (52.960%)\n",
      "\n",
      "Test set: Epoch [24]:Step[250] Average loss: 0.0216, Accuracy: 5361/10000 (53.610%)\n",
      "\n",
      "Test set: Epoch [24]:Step[300] Average loss: 0.0217, Accuracy: 5302/10000 (53.020%)\n",
      "\n",
      "Test set: Epoch [24]:Step[350] Average loss: 0.0221, Accuracy: 5334/10000 (53.340%)\n",
      "\n",
      "Test set: Epoch [25]:Step[0] Average loss: 0.0217, Accuracy: 5287/10000 (52.870%)\n",
      "\n",
      "Test set: Epoch [25]:Step[50] Average loss: 0.0226, Accuracy: 5361/10000 (53.610%)\n",
      "\n",
      "Test set: Epoch [25]:Step[100] Average loss: 0.0230, Accuracy: 5247/10000 (52.470%)\n",
      "\n",
      "Test set: Epoch [25]:Step[150] Average loss: 0.0234, Accuracy: 5318/10000 (53.180%)\n",
      "\n",
      "Test set: Epoch [25]:Step[200] Average loss: 0.0219, Accuracy: 5312/10000 (53.120%)\n",
      "\n",
      "Test set: Epoch [25]:Step[250] Average loss: 0.0228, Accuracy: 5197/10000 (51.970%)\n",
      "\n",
      "Test set: Epoch [25]:Step[300] Average loss: 0.0222, Accuracy: 5313/10000 (53.130%)\n",
      "\n",
      "Test set: Epoch [25]:Step[350] Average loss: 0.0241, Accuracy: 5088/10000 (50.880%)\n",
      "\n",
      "Test set: Epoch [26]:Step[0] Average loss: 0.0222, Accuracy: 5366/10000 (53.660%)\n",
      "\n",
      "Test set: Epoch [26]:Step[50] Average loss: 0.0226, Accuracy: 5422/10000 (54.220%)\n",
      "\n",
      "Test set: Epoch [26]:Step[100] Average loss: 0.0225, Accuracy: 5365/10000 (53.650%)\n",
      "\n",
      "Test set: Epoch [26]:Step[150] Average loss: 0.0225, Accuracy: 5397/10000 (53.970%)\n",
      "\n",
      "Test set: Epoch [26]:Step[200] Average loss: 0.0226, Accuracy: 5398/10000 (53.980%)\n",
      "\n",
      "Test set: Epoch [26]:Step[250] Average loss: 0.0243, Accuracy: 5286/10000 (52.860%)\n",
      "\n",
      "Test set: Epoch [26]:Step[300] Average loss: 0.0224, Accuracy: 5481/10000 (54.810%)\n",
      "\n",
      "Test set: Epoch [26]:Step[350] Average loss: 0.0231, Accuracy: 5382/10000 (53.820%)\n",
      "\n",
      "Test set: Epoch [27]:Step[0] Average loss: 0.0232, Accuracy: 5340/10000 (53.400%)\n",
      "\n",
      "Test set: Epoch [27]:Step[50] Average loss: 0.0231, Accuracy: 5378/10000 (53.780%)\n",
      "\n",
      "Test set: Epoch [27]:Step[100] Average loss: 0.0247, Accuracy: 5383/10000 (53.830%)\n",
      "\n",
      "Test set: Epoch [27]:Step[150] Average loss: 0.0254, Accuracy: 5220/10000 (52.200%)\n",
      "\n",
      "Test set: Epoch [27]:Step[200] Average loss: 0.0251, Accuracy: 5282/10000 (52.820%)\n",
      "\n",
      "Test set: Epoch [27]:Step[250] Average loss: 0.0248, Accuracy: 5343/10000 (53.430%)\n",
      "\n",
      "Test set: Epoch [27]:Step[300] Average loss: 0.0244, Accuracy: 5313/10000 (53.130%)\n",
      "\n",
      "Test set: Epoch [27]:Step[350] Average loss: 0.0233, Accuracy: 5431/10000 (54.310%)\n",
      "\n",
      "Test set: Epoch [28]:Step[0] Average loss: 0.0236, Accuracy: 5365/10000 (53.650%)\n",
      "\n",
      "Test set: Epoch [28]:Step[50] Average loss: 0.0237, Accuracy: 5383/10000 (53.830%)\n",
      "\n",
      "Test set: Epoch [28]:Step[100] Average loss: 0.0257, Accuracy: 5294/10000 (52.940%)\n",
      "\n",
      "Test set: Epoch [28]:Step[150] Average loss: 0.0243, Accuracy: 5375/10000 (53.750%)\n",
      "\n",
      "Test set: Epoch [28]:Step[200] Average loss: 0.0243, Accuracy: 5376/10000 (53.760%)\n",
      "\n",
      "Test set: Epoch [28]:Step[250] Average loss: 0.0237, Accuracy: 5403/10000 (54.030%)\n",
      "\n",
      "Test set: Epoch [28]:Step[300] Average loss: 0.0240, Accuracy: 5447/10000 (54.470%)\n",
      "\n",
      "Test set: Epoch [28]:Step[350] Average loss: 0.0257, Accuracy: 5257/10000 (52.570%)\n",
      "\n",
      "Test set: Epoch [29]:Step[0] Average loss: 0.0254, Accuracy: 5209/10000 (52.090%)\n",
      "\n",
      "Test set: Epoch [29]:Step[50] Average loss: 0.0249, Accuracy: 5396/10000 (53.960%)\n",
      "\n",
      "Test set: Epoch [29]:Step[100] Average loss: 0.0246, Accuracy: 5372/10000 (53.720%)\n",
      "\n",
      "Test set: Epoch [29]:Step[150] Average loss: 0.0253, Accuracy: 5327/10000 (53.270%)\n",
      "\n",
      "Test set: Epoch [29]:Step[200] Average loss: 0.0261, Accuracy: 5229/10000 (52.290%)\n",
      "\n",
      "Test set: Epoch [29]:Step[250] Average loss: 0.0248, Accuracy: 5369/10000 (53.690%)\n",
      "\n",
      "Test set: Epoch [29]:Step[300] Average loss: 0.0258, Accuracy: 5260/10000 (52.600%)\n",
      "\n",
      "Test set: Epoch [29]:Step[350] Average loss: 0.0276, Accuracy: 5197/10000 (51.970%)\n",
      "\n",
      "Test set: Epoch [30]:Step[0] Average loss: 0.0262, Accuracy: 5229/10000 (52.290%)\n",
      "\n",
      "Test set: Epoch [30]:Step[50] Average loss: 0.0249, Accuracy: 5408/10000 (54.080%)\n",
      "\n",
      "Test set: Epoch [30]:Step[100] Average loss: 0.0252, Accuracy: 5438/10000 (54.380%)\n",
      "\n",
      "Test set: Epoch [30]:Step[150] Average loss: 0.0264, Accuracy: 5400/10000 (54.000%)\n",
      "\n",
      "Test set: Epoch [30]:Step[200] Average loss: 0.0258, Accuracy: 5397/10000 (53.970%)\n",
      "\n",
      "Test set: Epoch [30]:Step[250] Average loss: 0.0256, Accuracy: 5416/10000 (54.160%)\n",
      "\n",
      "Test set: Epoch [30]:Step[300] Average loss: 0.0257, Accuracy: 5386/10000 (53.860%)\n",
      "\n",
      "Test set: Epoch [30]:Step[350] Average loss: 0.0263, Accuracy: 5316/10000 (53.160%)\n",
      "\n",
      "Test set: Epoch [31]:Step[0] Average loss: 0.0257, Accuracy: 5360/10000 (53.600%)\n",
      "\n",
      "Test set: Epoch [31]:Step[50] Average loss: 0.0258, Accuracy: 5401/10000 (54.010%)\n",
      "\n",
      "Test set: Epoch [31]:Step[100] Average loss: 0.0267, Accuracy: 5418/10000 (54.180%)\n",
      "\n",
      "Test set: Epoch [31]:Step[150] Average loss: 0.0261, Accuracy: 5461/10000 (54.610%)\n",
      "\n",
      "Test set: Epoch [31]:Step[200] Average loss: 0.0264, Accuracy: 5371/10000 (53.710%)\n",
      "\n",
      "Test set: Epoch [31]:Step[250] Average loss: 0.0265, Accuracy: 5460/10000 (54.600%)\n",
      "\n",
      "Test set: Epoch [31]:Step[300] Average loss: 0.0263, Accuracy: 5374/10000 (53.740%)\n",
      "\n",
      "Test set: Epoch [31]:Step[350] Average loss: 0.0268, Accuracy: 5380/10000 (53.800%)\n",
      "\n",
      "Test set: Epoch [32]:Step[0] Average loss: 0.0272, Accuracy: 5310/10000 (53.100%)\n",
      "\n",
      "Test set: Epoch [32]:Step[50] Average loss: 0.0262, Accuracy: 5391/10000 (53.910%)\n",
      "\n",
      "Test set: Epoch [32]:Step[100] Average loss: 0.0262, Accuracy: 5479/10000 (54.790%)\n",
      "\n",
      "Test set: Epoch [32]:Step[150] Average loss: 0.0279, Accuracy: 5360/10000 (53.600%)\n",
      "\n",
      "Test set: Epoch [32]:Step[200] Average loss: 0.0264, Accuracy: 5472/10000 (54.720%)\n",
      "\n",
      "Test set: Epoch [32]:Step[250] Average loss: 0.0274, Accuracy: 5419/10000 (54.190%)\n",
      "\n",
      "Test set: Epoch [32]:Step[300] Average loss: 0.0285, Accuracy: 5353/10000 (53.530%)\n",
      "\n",
      "Test set: Epoch [32]:Step[350] Average loss: 0.0264, Accuracy: 5472/10000 (54.720%)\n",
      "\n",
      "Test set: Epoch [33]:Step[0] Average loss: 0.0263, Accuracy: 5392/10000 (53.920%)\n",
      "\n",
      "Test set: Epoch [33]:Step[50] Average loss: 0.0275, Accuracy: 5436/10000 (54.360%)\n",
      "\n",
      "Test set: Epoch [33]:Step[100] Average loss: 0.0274, Accuracy: 5538/10000 (55.380%)\n",
      "\n",
      "Test set: Epoch [33]:Step[150] Average loss: 0.0286, Accuracy: 5322/10000 (53.220%)\n",
      "\n",
      "Test set: Epoch [33]:Step[200] Average loss: 0.0280, Accuracy: 5423/10000 (54.230%)\n",
      "\n",
      "Test set: Epoch [33]:Step[250] Average loss: 0.0289, Accuracy: 5378/10000 (53.780%)\n",
      "\n",
      "Test set: Epoch [33]:Step[300] Average loss: 0.0285, Accuracy: 5391/10000 (53.910%)\n",
      "\n",
      "Test set: Epoch [33]:Step[350] Average loss: 0.0263, Accuracy: 5452/10000 (54.520%)\n",
      "\n",
      "Test set: Epoch [34]:Step[0] Average loss: 0.0275, Accuracy: 5373/10000 (53.730%)\n",
      "\n",
      "Test set: Epoch [34]:Step[50] Average loss: 0.0277, Accuracy: 5465/10000 (54.650%)\n",
      "\n",
      "Test set: Epoch [34]:Step[100] Average loss: 0.0283, Accuracy: 5394/10000 (53.940%)\n",
      "\n",
      "Test set: Epoch [34]:Step[150] Average loss: 0.0282, Accuracy: 5405/10000 (54.050%)\n",
      "\n",
      "Test set: Epoch [34]:Step[200] Average loss: 0.0284, Accuracy: 5352/10000 (53.520%)\n",
      "\n",
      "Test set: Epoch [34]:Step[250] Average loss: 0.0273, Accuracy: 5426/10000 (54.260%)\n",
      "\n",
      "Test set: Epoch [34]:Step[300] Average loss: 0.0287, Accuracy: 5381/10000 (53.810%)\n",
      "\n",
      "Test set: Epoch [34]:Step[350] Average loss: 0.0284, Accuracy: 5391/10000 (53.910%)\n",
      "\n",
      "Test set: Epoch [35]:Step[0] Average loss: 0.0286, Accuracy: 5407/10000 (54.070%)\n",
      "\n",
      "Test set: Epoch [35]:Step[50] Average loss: 0.0285, Accuracy: 5417/10000 (54.170%)\n",
      "\n",
      "Test set: Epoch [35]:Step[100] Average loss: 0.0282, Accuracy: 5423/10000 (54.230%)\n",
      "\n",
      "Test set: Epoch [35]:Step[150] Average loss: 0.0281, Accuracy: 5489/10000 (54.890%)\n",
      "\n",
      "Test set: Epoch [35]:Step[200] Average loss: 0.0281, Accuracy: 5416/10000 (54.160%)\n",
      "\n",
      "Test set: Epoch [35]:Step[250] Average loss: 0.0291, Accuracy: 5378/10000 (53.780%)\n",
      "\n",
      "Test set: Epoch [35]:Step[300] Average loss: 0.0293, Accuracy: 5381/10000 (53.810%)\n",
      "\n",
      "Test set: Epoch [35]:Step[350] Average loss: 0.0300, Accuracy: 5324/10000 (53.240%)\n",
      "\n",
      "Test set: Epoch [36]:Step[0] Average loss: 0.0294, Accuracy: 5437/10000 (54.370%)\n",
      "\n",
      "Test set: Epoch [36]:Step[50] Average loss: 0.0283, Accuracy: 5527/10000 (55.270%)\n",
      "\n",
      "Test set: Epoch [36]:Step[100] Average loss: 0.0298, Accuracy: 5524/10000 (55.240%)\n",
      "\n",
      "Test set: Epoch [36]:Step[150] Average loss: 0.0301, Accuracy: 5452/10000 (54.520%)\n",
      "\n",
      "Test set: Epoch [36]:Step[200] Average loss: 0.0301, Accuracy: 5451/10000 (54.510%)\n",
      "\n",
      "Test set: Epoch [36]:Step[250] Average loss: 0.0309, Accuracy: 5313/10000 (53.130%)\n",
      "\n",
      "Test set: Epoch [36]:Step[300] Average loss: 0.0301, Accuracy: 5351/10000 (53.510%)\n",
      "\n",
      "Test set: Epoch [36]:Step[350] Average loss: 0.0281, Accuracy: 5475/10000 (54.750%)\n",
      "\n",
      "Test set: Epoch [37]:Step[0] Average loss: 0.0298, Accuracy: 5422/10000 (54.220%)\n",
      "\n",
      "Test set: Epoch [37]:Step[50] Average loss: 0.0305, Accuracy: 5484/10000 (54.840%)\n",
      "\n",
      "Test set: Epoch [37]:Step[100] Average loss: 0.0309, Accuracy: 5439/10000 (54.390%)\n",
      "\n",
      "Test set: Epoch [37]:Step[150] Average loss: 0.0302, Accuracy: 5476/10000 (54.760%)\n",
      "\n",
      "Test set: Epoch [37]:Step[200] Average loss: 0.0324, Accuracy: 5490/10000 (54.900%)\n",
      "\n",
      "Test set: Epoch [37]:Step[250] Average loss: 0.0306, Accuracy: 5386/10000 (53.860%)\n",
      "\n",
      "Test set: Epoch [37]:Step[300] Average loss: 0.0312, Accuracy: 5286/10000 (52.860%)\n",
      "\n",
      "Test set: Epoch [37]:Step[350] Average loss: 0.0314, Accuracy: 5322/10000 (53.220%)\n",
      "\n",
      "Test set: Epoch [38]:Step[0] Average loss: 0.0297, Accuracy: 5447/10000 (54.470%)\n",
      "\n",
      "Test set: Epoch [38]:Step[50] Average loss: 0.0329, Accuracy: 5250/10000 (52.500%)\n",
      "\n",
      "Test set: Epoch [38]:Step[100] Average loss: 0.0302, Accuracy: 5430/10000 (54.300%)\n",
      "\n",
      "Test set: Epoch [38]:Step[150] Average loss: 0.0300, Accuracy: 5478/10000 (54.780%)\n",
      "\n",
      "Test set: Epoch [38]:Step[200] Average loss: 0.0306, Accuracy: 5451/10000 (54.510%)\n",
      "\n",
      "Test set: Epoch [38]:Step[250] Average loss: 0.0307, Accuracy: 5431/10000 (54.310%)\n",
      "\n",
      "Test set: Epoch [38]:Step[300] Average loss: 0.0307, Accuracy: 5373/10000 (53.730%)\n",
      "\n",
      "Test set: Epoch [38]:Step[350] Average loss: 0.0299, Accuracy: 5402/10000 (54.020%)\n",
      "\n",
      "Test set: Epoch [39]:Step[0] Average loss: 0.0309, Accuracy: 5324/10000 (53.240%)\n",
      "\n",
      "Test set: Epoch [39]:Step[50] Average loss: 0.0307, Accuracy: 5429/10000 (54.290%)\n",
      "\n",
      "Test set: Epoch [39]:Step[100] Average loss: 0.0316, Accuracy: 5373/10000 (53.730%)\n",
      "\n",
      "Test set: Epoch [39]:Step[150] Average loss: 0.0311, Accuracy: 5381/10000 (53.810%)\n",
      "\n",
      "Test set: Epoch [39]:Step[200] Average loss: 0.0302, Accuracy: 5357/10000 (53.570%)\n",
      "\n",
      "Test set: Epoch [39]:Step[250] Average loss: 0.0293, Accuracy: 5547/10000 (55.470%)\n",
      "\n",
      "Test set: Epoch [39]:Step[300] Average loss: 0.0299, Accuracy: 5536/10000 (55.360%)\n",
      "\n",
      "Test set: Epoch [39]:Step[350] Average loss: 0.0306, Accuracy: 5460/10000 (54.600%)\n",
      "\n"
     ]
    }
   ],
   "source": [
    "history_dnn = []\n",
    "dnnepochs = 40\n",
    "for epoch in range(dnnepochs):\n",
    "    val_loss = 0\n",
    "    perValue = 0\n",
    "    total_train_loss = 0\n",
    "    total_val_loss = 0\n",
    "    for step, (input, target) in enumerate(train_data_loader):\n",
    "        input = input.cuda()\n",
    "        target = target.cuda()\n",
    "        dnnmodel.train()\n",
    "        output = dnnmodel(input)\n",
    "        loss = loss_func(output, target)\n",
    "        loss.backward()\n",
    "        optimizer.step()\n",
    "        optimizer.zero_grad()\n",
    "        total_train_loss += loss.cpu().detach().numpy()\n",
    "\n",
    "        if step % 50 == 0:\n",
    "            dnnmodel.eval()\n",
    "            test_loss = 0\n",
    "            correct = 0\n",
    "            total_val_loss = 0\n",
    "            for data, target in valid_data_loader:\n",
    "                data = data.to(device)\n",
    "                target = target.to(device)\n",
    "                output = dnnmodel(data)\n",
    "                criterion = nn.CrossEntropyLoss()\n",
    "                test_loss = criterion(output, target)\n",
    "                pred = output.data.max(1, keepdim = True)[1]\n",
    "                correct += pred.eq(target.data.view_as(pred)).cpu().sum()\n",
    "                total_val_loss += test_loss.cpu().detach().numpy()\n",
    "\n",
    "            perValue = correct / float(len(valid_data_loader.dataset))\n",
    "            total_val_loss /= len(valid_data_loader.dataset)\n",
    "            print(\n",
    "                'Test set: Epoch [{}]:Step[{}] Average loss: {:.4f}, Accuracy: {}/{} ({:.3f}%)\\n'\n",
    "                .format(\n",
    "                    epoch, step, total_val_loss, correct, len(valid_data_loader.dataset),\n",
    "                    float(100. * perValue)\n",
    "                )\n",
    "            )\n",
    "    total_train_loss /= len(train_data_loader.dataset)\n",
    "    scheduler.step(total_train_loss)\n",
    "    history_dnn.append({\"loss_value\": total_train_loss,\"test_loss\": total_val_loss, \"accuracy\": perValue.cpu().detach().numpy(), \"epoch\": epoch}) "
   ]
  },
  {
   "cell_type": "markdown",
   "metadata": {
    "id": "mErHjHtDbM2P",
    "pycharm": {
     "name": "#%% md\n"
    }
   },
   "source": [
    "**Saving and reloading**"
   ]
  },
  {
   "cell_type": "code",
   "execution_count": 13,
   "metadata": {
    "colab": {
     "base_uri": "https://localhost:8080/"
    },
    "id": "oUPIySuWbPvA",
    "outputId": "944142f6-7847-4572-8a33-6869450850a4",
    "pycharm": {
     "name": "#%%\n"
    }
   },
   "outputs": [
    {
     "data": {
      "text/plain": [
       "<All keys matched successfully>"
      ]
     },
     "execution_count": 13,
     "metadata": {},
     "output_type": "execute_result"
    }
   ],
   "source": [
    "torch.save(dnnmodel.state_dict(), \"./dnnModel.mod\")\n",
    "\n",
    "dnnmodel.load_state_dict(torch.load(\"./dnnModel.mod\"))"
   ]
  },
  {
   "cell_type": "markdown",
   "metadata": {
    "id": "WmcxTFDWbyTe",
    "pycharm": {
     "name": "#%% md\n"
    }
   },
   "source": [
    "**Testing model on Test set**"
   ]
  },
  {
   "cell_type": "code",
   "execution_count": 14,
   "metadata": {
    "colab": {
     "base_uri": "https://localhost:8080/"
    },
    "id": "tqtanvzxb35h",
    "outputId": "09ea3b33-cc34-44f6-b183-7b7691968769",
    "pycharm": {
     "name": "#%%\n"
    }
   },
   "outputs": [
    {
     "name": "stdout",
     "output_type": "stream",
     "text": [
      "Test set: Average loss: 0.0003, Accuracy: 5432/10000 (54.320%)\n",
      "\n"
     ]
    }
   ],
   "source": [
    "test_loss = 0\n",
    "correct = 0\n",
    "for data, target in eval_data_loader:\n",
    "    data = data.to(device)\n",
    "    target = target.to(device)\n",
    "    output = dnnmodel(data)\n",
    "    criterion = nn.CrossEntropyLoss()\n",
    "    test_loss = criterion(output, target)\n",
    "    pred = output.data.max(1, keepdim = True)[1]\n",
    "    correct += pred.eq(target.data.view_as(pred)).cpu().sum()\n",
    "\n",
    "perValue = correct / float(len(eval_data_loader.dataset))\n",
    "history_dnn.append({\"loss_value\": loss, \"accuracy\": perValue})\n",
    "test_loss /= len(eval_data_loader.dataset)\n",
    "print(\n",
    "    'Test set: Average loss: {:.4f}, Accuracy: {}/{} ({:.3f}%)\\n'\n",
    "    .format(\n",
    "        test_loss, correct, len(eval_data_loader.dataset),\n",
    "        float(100. * perValue)\n",
    "    )\n",
    ")    "
   ]
  },
  {
   "cell_type": "markdown",
   "metadata": {
    "id": "1haTfNThR3MM",
    "pycharm": {
     "name": "#%% md\n"
    }
   },
   "source": [
    "A 54 percent accuracy rate! This demonstrates how important it is to choose the proper number of epochs and learning rates in order to discover the optimal model for your dataset, but in this situation, the accuracy is too low to use this model to classify anything. This is most likely owing to the model inspecting each pixel individually. Convolutional networks excel in this situation. These networks are deep neural networks that process and create images using convolutional layers and convolutional filters."
   ]
  },
  {
   "cell_type": "markdown",
   "metadata": {
    "id": "VI7r0c4z6MAv",
    "pycharm": {
     "name": "#%% md\n"
    }
   },
   "source": [
    "### **5. Deep Neural Network (DNN) w/ Convolution Layer (CNN)**\n",
    "\n"
   ]
  },
  {
   "cell_type": "markdown",
   "metadata": {
    "id": "PYt4mM_kBniz",
    "pycharm": {
     "name": "#%% md\n"
    }
   },
   "source": [
    "For our deep neural network with convolution, we use the nn module we imported from torch. As we can see, the Conv2d is a module that helps implement a convolutional neural network and here, we have 4 such layers.\n",
    "\n",
    "The first parameter 3 here represents that the image is colored and in RGB format. If it was a grayscale image we would have gone for 1. \n",
    "128 is the size of the initial output channel and when we go for the next conv2d layer we would have this 128 as the input channel and 256  as the output channel. The 3rd parameter in the first line is called kernel size and it helps us take care of the filters used. Padding operation is the last parameter.\n",
    "\n",
    "The convolution operation is connected to an activation layer and Relu here to introduce non-linearity in the network. We have a max-pooling operation of size 2 * 2. The value coming out from this is batch normalized for stability and to avoid internal covariate shift. These operations are repeated with more layers to deeper the network and reduce the size. \n",
    "\n",
    "To make the network denser, we have utilised Dropout which is a regularization method that approximates training a large number of neural networks with different architectures in parallel.\n",
    "\n",
    "Finally, we flatten the layer so that we can build a linear layer to map the values to 10 values. The probability of each neuron of these 10 neurons will determine which class a particular image belongs to based on the maximum probability."
   ]
  },
  {
   "cell_type": "markdown",
   "metadata": {
    "id": "4q0VKPTK678u",
    "pycharm": {
     "name": "#%% md\n"
    }
   },
   "source": [
    "**Defining CNN Model**"
   ]
  },
  {
   "cell_type": "code",
   "execution_count": null,
   "metadata": {
    "id": "qw0HRO107Aah",
    "pycharm": {
     "name": "#%%\n"
    }
   },
   "outputs": [],
   "source": [
    "class Net(nn.Module):\n",
    "        def __init__(self):\n",
    "            super(Net, self).__init__()\n",
    "            self.conv1 = nn.Conv2d(3, 128, 5, padding=2)\n",
    "            self.conv2 = nn.Conv2d(128, 128, 5, padding=2)\n",
    "            self.conv3 = nn.Conv2d(128, 256, 3, padding=1)\n",
    "            self.conv4 = nn.Conv2d(256, 256, 3, padding=1)\n",
    "            self.pool = nn.MaxPool2d(2, 2)\n",
    "            self.bn_conv1 = nn.BatchNorm2d(128)\n",
    "            self.bn_conv2 = nn.BatchNorm2d(128)\n",
    "            self.bn_conv3 = nn.BatchNorm2d(256)\n",
    "            self.bn_conv4 = nn.BatchNorm2d(256)\n",
    "            self.bn_dense1 = nn.BatchNorm1d(1024)\n",
    "            self.bn_dense2 = nn.BatchNorm1d(512)\n",
    "            self.dropout_conv = nn.Dropout2d(p=0.25)\n",
    "            self.dropout = nn.Dropout(p=0.5)\n",
    "            self.fc1 = nn.Linear(256 * 8 * 8, 1024)\n",
    "            self.fc2 = nn.Linear(1024, 512)\n",
    "            self.fc3 = nn.Linear(512, 10)\n",
    "\n",
    "        def conv_layers(self, x):\n",
    "            out = F.relu(self.bn_conv1(self.conv1(x)))\n",
    "            out = F.relu(self.bn_conv2(self.conv2(out)))\n",
    "            out = self.pool(out)\n",
    "            out = self.dropout_conv(out)\n",
    "            out = F.relu(self.bn_conv3(self.conv3(out)))\n",
    "            out = F.relu(self.bn_conv4(self.conv4(out)))\n",
    "            out = self.pool(out)\n",
    "            out = self.dropout_conv(out)\n",
    "            return out\n",
    "\n",
    "        def dense_layers(self, x):\n",
    "            out = F.relu(self.bn_dense1(self.fc1(x)))\n",
    "            out = self.dropout(out)\n",
    "            out = F.relu(self.bn_dense2(self.fc2(out)))\n",
    "            out = self.dropout(out)\n",
    "            out = self.fc3(out)\n",
    "            return out\n",
    "\n",
    "        def forward(self, x):\n",
    "            out = self.conv_layers(x)\n",
    "            out = out.view(-1, 256 * 8 * 8)\n",
    "            out = self.dense_layers(out)\n",
    "            return out"
   ]
  },
  {
   "cell_type": "markdown",
   "metadata": {
    "id": "D-Yap7Th7AzA",
    "pycharm": {
     "name": "#%% md\n"
    }
   },
   "source": [
    "**Printing random images**"
   ]
  },
  {
   "cell_type": "code",
   "execution_count": null,
   "metadata": {
    "colab": {
     "base_uri": "https://localhost:8080/",
     "height": 306
    },
    "id": "5cjMuFmK6U1i",
    "outputId": "36d8f2d6-9a7d-4918-8cec-c4fb5133b3b3",
    "pycharm": {
     "name": "#%%\n"
    }
   },
   "outputs": [
    {
     "data": {
      "image/png": "[encoded data removed]",
      "text/plain": [
       "<Figure size 432x288 with 1 Axes>"
      ]
     },
     "metadata": {},
     "output_type": "display_data"
    },
    {
     "name": "stdout",
     "output_type": "stream",
     "text": [
      "cat   dog   cat   deer  deer  dog   car   deer  horse car   deer  plane ship  plane cat   horse car   ship  plane frog  plane truck dog   truck bird  deer  dog   ship  cat   truck frog  cat   car   dog   horse bird  car   frog  car   horse bird  truck deer  horse ship  frog  bird  deer  dog   car   car   horse frog  frog  plane dog   cat   dog   bird  cat   plane deer  deer  dog   dog   bird  ship  truck frog  horse frog  plane ship  plane truck deer  deer  plane frog  plane car   dog   cat   cat   deer  horse cat   cat   plane horse cat   truck deer  deer  plane deer  cat   dog   horse horse\n"
     ]
    }
   ],
   "source": [
    "classes = ('plane', 'car', 'bird', 'cat',\n",
    "            'deer', 'dog', 'frog', 'horse', 'ship', 'truck')\n",
    "\n",
    "# functions to show an image\n",
    "\n",
    "batch_size = 100\n",
    "trainloader = train_data_loader\n",
    "val_loader = valid_data_loader\n",
    "testloader = eval_data_loader\n",
    "def imshow(img):\n",
    "    img = img / 2 + 0.5     # unnormalize\n",
    "    npimg = img.numpy()\n",
    "    plt.imshow(np.transpose(npimg, (1, 2, 0)))\n",
    "    plt.show()\n",
    "\n",
    "\n",
    "# get some random training images\n",
    "dataiter = iter(trainloader)\n",
    "images, labels = dataiter.next()\n",
    "\n",
    "# show images\n",
    "imshow(torchvision.utils.make_grid(images))\n",
    "# print labels\n",
    "print(' '.join(f'{classes[labels[j]]:5s}' for j in range(batch_size)))\n"
   ]
  },
  {
   "cell_type": "markdown",
   "metadata": {
    "id": "H5yQdT117OAr",
    "pycharm": {
     "name": "#%% md\n"
    }
   },
   "source": [
    "**Creating Neural Network**"
   ]
  },
  {
   "cell_type": "code",
   "execution_count": null,
   "metadata": {
    "colab": {
     "base_uri": "https://localhost:8080/"
    },
    "id": "VCgEc8ew73t-",
    "outputId": "5d4c041e-5b34-4ccd-898e-0f5fc4969400",
    "pycharm": {
     "name": "#%%\n"
    }
   },
   "outputs": [
    {
     "name": "stdout",
     "output_type": "stream",
     "text": [
      "Number of trainable parameters: 18617482\n"
     ]
    }
   ],
   "source": [
    "net = Net()\n",
    "net.to(device)\n",
    "\n",
    "num_params = sum(p.numel() for p in net.parameters() if p.requires_grad)\n",
    "print(\"Number of trainable parameters:\", num_params)\n",
    "\n",
    "criterion = nn.CrossEntropyLoss()\n",
    "optimizer = optim.Adam(net.parameters(), lr=0.01, betas=(0.9, 0.999), eps=1e-08, weight_decay=0, amsgrad=False)\n",
    "scheduler = optim.lr_scheduler.ReduceLROnPlateau(optimizer, mode='min', factor=0.1, patience=10, verbose=True, min_lr=0)"
   ]
  },
  {
   "cell_type": "markdown",
   "metadata": {
    "id": "PeTnT2w7A7lt",
    "pycharm": {
     "name": "#%% md\n"
    }
   },
   "source": [
    "**Starting Training**"
   ]
  },
  {
   "cell_type": "code",
   "execution_count": null,
   "metadata": {
    "colab": {
     "base_uri": "https://localhost:8080/"
    },
    "id": "W_9_n5KSA-Kl",
    "outputId": "d006f3e6-3c2b-468e-f2f1-5b5cd8acd55b",
    "pycharm": {
     "name": "#%%\n"
    }
   },
   "outputs": [
    {
     "name": "stdout",
     "output_type": "stream",
     "text": [
      "[epoch 1] loss: 0.01703 accuracy: 0.3860 val loss: 0.01324 val accuracy: 0.5066\n",
      "[epoch 2] loss: 0.01297 accuracy: 0.5389 val loss: 0.01053 val accuracy: 0.6272\n",
      "[epoch 3] loss: 0.01086 accuracy: 0.6188 val loss: 0.00864 val accuracy: 0.6996\n",
      "[epoch 4] loss: 0.00923 accuracy: 0.6788 val loss: 0.00762 val accuracy: 0.7313\n",
      "[epoch 5] loss: 0.00819 accuracy: 0.7162 val loss: 0.00693 val accuracy: 0.7504\n",
      "[epoch 6] loss: 0.00723 accuracy: 0.7495 val loss: 0.00653 val accuracy: 0.7703\n",
      "[epoch 7] loss: 0.00648 accuracy: 0.7764 val loss: 0.00637 val accuracy: 0.7743\n",
      "[epoch 8] loss: 0.00588 accuracy: 0.7969 val loss: 0.00577 val accuracy: 0.7995\n",
      "[epoch 9] loss: 0.00527 accuracy: 0.8176 val loss: 0.00580 val accuracy: 0.7997\n",
      "[epoch 10] loss: 0.00471 accuracy: 0.8364 val loss: 0.00579 val accuracy: 0.8049\n",
      "[epoch 11] loss: 0.00416 accuracy: 0.8553 val loss: 0.00587 val accuracy: 0.8087\n",
      "[epoch 12] loss: 0.00378 accuracy: 0.8701 val loss: 0.00543 val accuracy: 0.8217\n",
      "[epoch 13] loss: 0.00333 accuracy: 0.8854 val loss: 0.00580 val accuracy: 0.8169\n",
      "[epoch 14] loss: 0.00303 accuracy: 0.8959 val loss: 0.00578 val accuracy: 0.8189\n",
      "[epoch 15] loss: 0.00269 accuracy: 0.9083 val loss: 0.00569 val accuracy: 0.8244\n",
      "[epoch 16] loss: 0.00246 accuracy: 0.9164 val loss: 0.00588 val accuracy: 0.8250\n",
      "[epoch 17] loss: 0.00230 accuracy: 0.9217 val loss: 0.00585 val accuracy: 0.8294\n",
      "[epoch 18] loss: 0.00214 accuracy: 0.9281 val loss: 0.00597 val accuracy: 0.8277\n",
      "[epoch 19] loss: 0.00192 accuracy: 0.9356 val loss: 0.00630 val accuracy: 0.8264\n",
      "[epoch 20] loss: 0.00182 accuracy: 0.9386 val loss: 0.00627 val accuracy: 0.8250\n",
      "Finished Training\n"
     ]
    }
   ],
   "source": [
    "loss_hist, acc_hist = [], []\n",
    "loss_hist_val, acc_hist_val = [], []\n",
    "\n",
    "train_set = trainloader.dataset\n",
    "val_set = val_loader.dataset\n",
    "\n",
    "for epoch in range(20):\n",
    "    running_loss = 0.0\n",
    "    correct = 0\n",
    "    for data in trainloader:\n",
    "        batch, labels = data\n",
    "        batch, labels = batch.to(device), labels.to(device)\n",
    "\n",
    "        optimizer.zero_grad()\n",
    "        outputs = net(batch)\n",
    "        loss = criterion(outputs, labels)\n",
    "        loss.backward()\n",
    "        optimizer.step()\n",
    "\n",
    "        # compute training statistics\n",
    "        _, predicted = torch.max(outputs, 1)\n",
    "        correct += (predicted == labels).sum().item()\n",
    "        running_loss += loss.item()\n",
    "\n",
    "    avg_loss = running_loss / len(train_set)\n",
    "    avg_acc = correct / len(train_set)\n",
    "    loss_hist.append(avg_loss)\n",
    "    acc_hist.append(avg_acc)\n",
    "\n",
    "    # validation statistics\n",
    "    net.eval()\n",
    "    with torch.no_grad():\n",
    "        loss_val = 0.0\n",
    "        correct_val = 0\n",
    "        for data in val_loader:\n",
    "            batch, labels = data\n",
    "            batch, labels = batch.to(device), labels.to(device)\n",
    "\n",
    "            outputs = net(batch)\n",
    "            loss = criterion(outputs, labels)\n",
    "            _, predicted = torch.max(outputs, 1)\n",
    "            correct_val += (predicted == labels).sum().item()\n",
    "            loss_val += loss.item()\n",
    "        avg_loss_val = loss_val / len(val_set)\n",
    "        avg_acc_val = correct_val / len(val_set)\n",
    "        loss_hist_val.append(avg_loss_val)\n",
    "        acc_hist_val.append(avg_acc_val)\n",
    "    net.train()\n",
    "\n",
    "    scheduler.step(avg_loss_val)\n",
    "    print('[epoch %d] loss: %.5f accuracy: %.4f val loss: %.5f val accuracy: %.4f' % (epoch + 1, avg_loss, avg_acc, avg_loss_val, avg_acc_val))\n",
    "\n",
    "print('Finished Training')"
   ]
  },
  {
   "cell_type": "markdown",
   "metadata": {
    "id": "diEkDSaOBmp1",
    "pycharm": {
     "name": "#%% md\n"
    }
   },
   "source": [
    "**Saving model and reloading weights**"
   ]
  },
  {
   "cell_type": "code",
   "execution_count": null,
   "metadata": {
    "colab": {
     "base_uri": "https://localhost:8080/"
    },
    "id": "78cAsUgmBouP",
    "outputId": "d6025f51-35aa-4006-cde2-9177588def12",
    "pycharm": {
     "name": "#%%\n"
    }
   },
   "outputs": [
    {
     "data": {
      "text/plain": [
       "<All keys matched successfully>"
      ]
     },
     "execution_count": 32,
     "metadata": {},
     "output_type": "execute_result"
    }
   ],
   "source": [
    "PATH = './cifar_net.pth'\n",
    "torch.save(net.state_dict(), PATH)\n",
    "\n",
    "dataiter = iter(testloader)\n",
    "images, labels = dataiter.next()\n",
    "\n",
    "net.load_state_dict(torch.load(PATH))"
   ]
  },
  {
   "cell_type": "markdown",
   "metadata": {
    "id": "eTinZ5eLB3g2",
    "pycharm": {
     "name": "#%% md\n"
    }
   },
   "source": [
    "**Testing the model on test dataset**"
   ]
  },
  {
   "cell_type": "code",
   "execution_count": null,
   "metadata": {
    "colab": {
     "base_uri": "https://localhost:8080/"
    },
    "id": "SRV8PCPgB-SM",
    "outputId": "c07c1f4e-76e6-47c7-b3cc-7e2268b9346c",
    "pycharm": {
     "name": "#%%\n"
    }
   },
   "outputs": [
    {
     "name": "stdout",
     "output_type": "stream",
     "text": [
      "Accuracy on the 10000 test images: 83.29 %\n"
     ]
    }
   ],
   "source": [
    "correct = 0\n",
    "total = 0\n",
    "pred_vec = []\n",
    "net.eval()\n",
    "test_set = testloader.dataset\n",
    "# since we're not training, we don't need to calculate the gradients for our outputs\n",
    "with torch.no_grad():\n",
    "    for data in testloader:\n",
    "        images, labels = data\n",
    "        images, labels = images.to(device), labels.to(device)\n",
    "        # calculate outputs by running images through the network\n",
    "        outputs = net(images)\n",
    "        # the class with the highest energy is what we choose as prediction\n",
    "        _, predicted = torch.max(outputs.data, 1)\n",
    "        total += labels.size(0)\n",
    "        correct += (predicted == labels).sum().item()\n",
    "        pred_vec.append(predicted)\n",
    "    pred_vec = torch.cat(pred_vec)            \n",
    "\n",
    "print('Accuracy on the 10000 test images: %.2f %%' % (100 * correct / len(test_set)))"
   ]
  },
  {
   "cell_type": "markdown",
   "metadata": {
    "id": "kyt9d1V0Br0w",
    "pycharm": {
     "name": "#%% md\n"
    }
   },
   "source": [
    "### **6. Comparison and Summary**\n"
   ]
  },
  {
   "cell_type": "markdown",
   "metadata": {
    "id": "ybJoGaVjD8Es",
    "pycharm": {
     "name": "#%% md\n"
    }
   },
   "source": [
    "Starting from logistic regression, we have 100 iterations being run to achieve an accuracy of approximately 42%. Then, svm w/o kernel is able to give an accuracy of approximately 35% over 1500 iterations and 54% with and RBF kernel. Later, we have designed a DNN without convolution layers which runs for 40 epochs to give an accuracy of approximately 55% but when added with convolution layers, it gives an accuracy of nearly 84% over 20 epochs. Thus DNN with CNN is the best model to classify Cifar-10 dataset.\n",
    "\n",
    "It is evident from the graphs below that- \n",
    "\n",
    "for ***CNN*** as the epoch increases, the accuracy of the system keeps increasing and similarly the loss keeps decreasing. \n",
    "\n"
   ]
  },
  {
   "cell_type": "code",
   "execution_count": null,
   "metadata": {
    "colab": {
     "base_uri": "https://localhost:8080/",
     "height": 573
    },
    "id": "mf-lM2YAGgwE",
    "outputId": "c4993396-636c-4d25-e3e6-8dfd2ab0b81d",
    "pycharm": {
     "name": "#%%\n"
    }
   },
   "outputs": [
    {
     "data": {
      "image/png": "[encoded data removed]",
      "text/plain": [
       "<Figure size 432x288 with 1 Axes>"
      ]
     },
     "metadata": {},
     "output_type": "display_data"
    },
    {
     "data": {
      "image/png": "[encoded data removed]",
      "text/plain": [
       "<Figure size 432x288 with 1 Axes>"
      ]
     },
     "metadata": {},
     "output_type": "display_data"
    }
   ],
   "source": [
    "legend = ['Train', 'Validation']\n",
    "plt.plot(loss_hist)\n",
    "plt.plot(loss_hist_val)\n",
    "plt.title('Model Loss for CNN')\n",
    "plt.xlabel('Epochs')\n",
    "plt.ylabel('Loss')\n",
    "plt.legend(legend, loc='upper left')\n",
    "plt.show()\n",
    "\n",
    "legend = ['Train', 'Validation']\n",
    "plt.plot(acc_hist)\n",
    "plt.plot(acc_hist_val)\n",
    "plt.title('Model Accuracy for CNN')\n",
    "plt.xlabel('Epochs')\n",
    "plt.ylabel('Accuracy')\n",
    "plt.legend(legend, loc='upper left')\n",
    "plt.show()"
   ]
  },
  {
   "cell_type": "markdown",
   "metadata": {
    "id": "yrOahyPQGZKJ",
    "pycharm": {
     "name": "#%% md\n"
    }
   },
   "source": [
    "for ***DNN without CNN*** as the epoch increases, the accuracy of the system keeps increasing and similarly the loss keeps decreasing. \n"
   ]
  },
  {
   "cell_type": "code",
   "execution_count": null,
   "metadata": {
    "colab": {
     "base_uri": "https://localhost:8080/",
     "height": 573
    },
    "id": "23c-Y4gcGMqg",
    "outputId": "9eee5b9c-2298-4ebb-94b0-9c56c24b1cb4",
    "pycharm": {
     "name": "#%%\n"
    }
   },
   "outputs": [
    {
     "data": {
      "image/png": "[encoded data removed]",
      "text/plain": [
       "<Figure size 432x288 with 1 Axes>"
      ]
     },
     "metadata": {
      "needs_background": "light"
     },
     "output_type": "display_data"
    },
    {
     "data": {
      "image/png": "[encoded data removed]",
      "text/plain": [
       "<Figure size 432x288 with 1 Axes>"
      ]
     },
     "metadata": {
      "needs_background": "light"
     },
     "output_type": "display_data"
    }
   ],
   "source": [
    "legend = ['Train', 'Validation']\n",
    "plt.plot(list(map(itemgetter(\"loss_value\"), history_dnn)))\n",
    "plt.plot(list(map(itemgetter(\"test_loss\"), history_dnn)))\n",
    "plt.title('Model Loss for DNN without CNN')\n",
    "plt.xlabel('Epochs')\n",
    "plt.ylabel('Loss')\n",
    "plt.legend(legend, loc='upper left')\n",
    "plt.show()\n",
    "\n",
    "legend = ['Test']\n",
    "plt.plot(list(map(itemgetter(\"accuracy\"), history_dnn)))\n",
    "plt.title('Model Accuracy for DNN without CNN')\n",
    "plt.xlabel('Epochs')\n",
    "plt.ylabel('Accuracy')\n",
    "plt.legend(legend, loc='upper left')\n",
    "plt.show()"
   ]
  },
  {
   "cell_type": "markdown",
   "metadata": {
    "id": "LQlA-fPuHhYW",
    "pycharm": {
     "name": "#%% md\n"
    }
   },
   "source": [
    "for ***SVM without kernel*** the loss decreases over the epochs"
   ]
  },
  {
   "cell_type": "code",
   "execution_count": null,
   "metadata": {
    "colab": {
     "base_uri": "https://localhost:8080/",
     "height": 295
    },
    "id": "Bkma3QKKHcjb",
    "outputId": "0546d482-be95-42f6-f80b-aa36d33e4141",
    "pycharm": {
     "name": "#%%\n"
    }
   },
   "outputs": [
    {
     "data": {
      "image/png": "[encoded data removed]",
      "text/plain": [
       "<Figure size 432x288 with 1 Axes>"
      ]
     },
     "metadata": {},
     "output_type": "display_data"
    }
   ],
   "source": [
    "plt.plot(loss_hist)\n",
    "plt.title('Model Loss for SVM w/o kernel')\n",
    "plt.xlabel('Epochs')\n",
    "plt.ylabel('Loss')\n",
    "plt.show()"
   ]
  },
  {
   "cell_type": "markdown",
   "metadata": {
    "id": "NaneAeSPHnVm",
    "pycharm": {
     "name": "#%% md\n"
    }
   },
   "source": [
    "for ***Logistic regression*** as the epoch increases, the accuracy of the system keeps increasing and similarly the loss keeps decreasing. "
   ]
  },
  {
   "cell_type": "code",
   "execution_count": null,
   "metadata": {
    "colab": {
     "base_uri": "https://localhost:8080/",
     "height": 573
    },
    "id": "9RNByiOQHoNi",
    "outputId": "b5993708-aabf-48f1-fb86-743fff459af5",
    "pycharm": {
     "name": "#%%\n"
    }
   },
   "outputs": [
    {
     "data": {
      "image/png": "[encoded data removed]",
      "text/plain": [
       "<Figure size 432x288 with 1 Axes>"
      ]
     },
     "metadata": {},
     "output_type": "display_data"
    },
    {
     "data": {
      "image/png": "[encoded data removed]",
      "text/plain": [
       "<Figure size 432x288 with 1 Axes>"
      ]
     },
     "metadata": {},
     "output_type": "display_data"
    }
   ],
   "source": [
    "# plotting loss graph\n",
    "legend = ['Train', 'Validation']\n",
    "plt.plot(list(map(itemgetter(\"val_loss\"), history_log)))\n",
    "plt.plot(list(map(itemgetter(\"train_loss\"), history_log)))\n",
    "plt.title('Model Loss for Logistic Regression')\n",
    "plt.xlabel('Epochs')\n",
    "plt.ylabel('Loss')\n",
    "plt.legend(legend, loc='upper left')\n",
    "plt.show()\n",
    "\n",
    "# plotting accuracy graph\n",
    "legend = ['Test']\n",
    "plt.plot(list(map(itemgetter(\"val_metric\"), history_log)))\n",
    "plt.title('Model Accuracy for Logistic Regression')\n",
    "plt.xlabel('Epochs')\n",
    "plt.ylabel('Accuracy')\n",
    "plt.legend(legend, loc='upper left')\n",
    "plt.show()"
   ]
  },
  {
   "cell_type": "markdown",
   "metadata": {
    "id": "bVyJEBJQS4bk",
    "pycharm": {
     "name": "#%% md\n"
    }
   },
   "source": [
    "### **Future scope**\n",
    "The above models can be tuned by modifying their hyperparameters like learning rate, number of dense layers, type of optimizer, number of iterations/epochs and more. "
   ]
  }
 ],
 "metadata": {
  "accelerator": "GPU",
  "colab": {
   "collapsed_sections": [
    "n9vCfGr5LtVz",
    "foKGDPY1YFUk",
    "woHAL_WsR_an",
    "VI7r0c4z6MAv"
   ],
   "name": "DS_5220_Final_Project.ipynb",
   "provenance": []
  },
  "kernelspec": {
   "display_name": "Python 3 (ipykernel)",
   "language": "python",
   "name": "python3"
  },
  "language_info": {
   "codemirror_mode": {
    "name": "ipython",
    "version": 3
   },
   "file_extension": ".py",
   "mimetype": "text/x-python",
   "name": "python",
   "nbconvert_exporter": "python",
   "pygments_lexer": "ipython3",
   "version": "3.10.4"
  }
 },
 "nbformat": 4,
 "nbformat_minor": 1
}